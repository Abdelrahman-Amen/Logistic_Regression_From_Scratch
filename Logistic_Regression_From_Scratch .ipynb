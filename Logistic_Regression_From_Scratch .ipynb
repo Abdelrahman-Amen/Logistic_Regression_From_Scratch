{
  "nbformat": 4,
  "nbformat_minor": 0,
  "metadata": {
    "colab": {
      "provenance": []
    },
    "kernelspec": {
      "name": "python3",
      "display_name": "Python 3"
    },
    "language_info": {
      "name": "python"
    }
  },
  "cells": [
    {
      "cell_type": "markdown",
      "source": [
        "# Import Libraries"
      ],
      "metadata": {
        "id": "Ja4J3aJQAknK"
      }
    },
    {
      "cell_type": "code",
      "execution_count": null,
      "metadata": {
        "id": "do_6sLhB9GLU"
      },
      "outputs": [],
      "source": [
        "import numpy as np\n",
        "import pandas as pd\n",
        "import matplotlib.pyplot as plt\n",
        "import warnings\n",
        "warnings.filterwarnings('ignore')\n",
        "import tensorflow as tf\n",
        "from sklearn.metrics import confusion_matrix\n",
        "import seaborn as sns\n",
        "from sklearn.metrics import classification_report"
      ]
    },
    {
      "cell_type": "markdown",
      "source": [
        "# Load Data"
      ],
      "metadata": {
        "id": "tDPfXpC2Aqnx"
      }
    },
    {
      "cell_type": "code",
      "source": [
        "#loading the data\n",
        "(x_train, y_train), (x_test, y_test) = tf.keras.datasets.mnist.load_data()"
      ],
      "metadata": {
        "colab": {
          "base_uri": "https://localhost:8080/"
        },
        "id": "wrDl5hNH9HoE",
        "outputId": "f12e98a3-7406-4304-ca64-46abf053ce06"
      },
      "execution_count": null,
      "outputs": [
        {
          "output_type": "stream",
          "name": "stdout",
          "text": [
            "Downloading data from https://storage.googleapis.com/tensorflow/tf-keras-datasets/mnist.npz\n",
            "11490434/11490434 [==============================] - 1s 0us/step\n"
          ]
        }
      ]
    },
    {
      "cell_type": "markdown",
      "source": [
        "# Subset 0,1"
      ],
      "metadata": {
        "id": "y11mOl1bAwDU"
      }
    },
    {
      "cell_type": "code",
      "source": [
        "# subsetting for classes 0,1 only\n",
        "\n",
        "x_train = x_train[np.logical_or(y_train == 0, y_train == 1)]\n",
        "y_train = y_train[np.logical_or(y_train == 0, y_train == 1)]\n",
        "\n",
        "x_test = x_test[np.logical_or(y_test == 0, y_test == 1)]\n",
        "y_test = y_test[np.logical_or(y_test == 0, y_test == 1)]"
      ],
      "metadata": {
        "id": "RgusNko69Hr_"
      },
      "execution_count": null,
      "outputs": []
    },
    {
      "cell_type": "code",
      "source": [
        "np.unique(y_train), np.unique(y_test)"
      ],
      "metadata": {
        "colab": {
          "base_uri": "https://localhost:8080/"
        },
        "id": "kShtCvZU9Hu8",
        "outputId": "17308bcd-cff1-49d0-f826-00a854619976"
      },
      "execution_count": null,
      "outputs": [
        {
          "output_type": "execute_result",
          "data": {
            "text/plain": [
              "(array([0, 1], dtype=uint8), array([0, 1], dtype=uint8))"
            ]
          },
          "metadata": {},
          "execution_count": 4
        }
      ]
    },
    {
      "cell_type": "markdown",
      "source": [
        "# Flatten Data"
      ],
      "metadata": {
        "id": "X_S90AbjA1Mu"
      }
    },
    {
      "cell_type": "code",
      "source": [
        "x_train=x_train.reshape(len(x_train),-1)\n",
        "x_test=x_test.reshape(len(x_test),-1)"
      ],
      "metadata": {
        "id": "cfV-IoQW9Hxe"
      },
      "execution_count": null,
      "outputs": []
    },
    {
      "cell_type": "markdown",
      "source": [
        "# Standardize Data"
      ],
      "metadata": {
        "id": "fEq9ZHuXA4qV"
      }
    },
    {
      "cell_type": "code",
      "source": [
        "x_train=(x_train-np.mean(x_train,axis=0))/(np.std(x_train,axis=0)+10e-16)\n",
        "x_test=(x_test-np.mean(x_test,axis=0))/(np.std(x_test,axis=0)+10e-16)"
      ],
      "metadata": {
        "id": "8-tK9WSC9Hz0"
      },
      "execution_count": null,
      "outputs": []
    },
    {
      "cell_type": "markdown",
      "source": [
        "# Sigmoid Function"
      ],
      "metadata": {
        "id": "5jmQWUbfA9A-"
      }
    },
    {
      "cell_type": "code",
      "source": [
        "def sigmoid(z):\n",
        "    return 1.0 / (1.0 + np.exp(-z))"
      ],
      "metadata": {
        "id": "O9HBqIyr9H2k"
      },
      "execution_count": null,
      "outputs": []
    },
    {
      "cell_type": "markdown",
      "source": [
        "# Cost Function"
      ],
      "metadata": {
        "id": "Uwdc_gMEBBGf"
      }
    },
    {
      "cell_type": "markdown",
      "source": [
        "![Screenshot 2024-03-22 152509.png](data:image/png;base64,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)"
      ],
      "metadata": {
        "id": "joigNr9IVn3W"
      }
    },
    {
      "cell_type": "code",
      "source": [
        "def cost_function(phiz, y_train):\n",
        "    return (y_train * np.log(phiz) - (1 - y_train) * np.log(1 - phiz)).mean()"
      ],
      "metadata": {
        "id": "GylJpPff9IAg"
      },
      "execution_count": null,
      "outputs": []
    },
    {
      "cell_type": "markdown",
      "source": [
        "# Initialize Parameters"
      ],
      "metadata": {
        "id": "TbrpE8NNBFUv"
      }
    },
    {
      "cell_type": "markdown",
      "source": [
        "\n",
        "*  np.random.rand() generates random numbers from a uniform distribution.\n",
        "\n",
        "*   \n",
        "np.random.randn() generates random numbers from a standard normal distribution.\n",
        "\n",
        "*   np.random.randint() generates random integers within a specified range.\n",
        "\n",
        "\n",
        "\n",
        "\n",
        "\n",
        "\n",
        "\n",
        "\n",
        "\n",
        "\n"
      ],
      "metadata": {
        "id": "DofVT1rQXlzF"
      }
    },
    {
      "cell_type": "code",
      "source": [
        "w=np.random.rand(784)\n",
        "b=np.random.rand(1)"
      ],
      "metadata": {
        "id": "iohh1hyG-bVY"
      },
      "execution_count": null,
      "outputs": []
    },
    {
      "cell_type": "code",
      "source": [
        "w"
      ],
      "metadata": {
        "colab": {
          "base_uri": "https://localhost:8080/"
        },
        "id": "X2_BBR0IYCu4",
        "outputId": "7efaf487-cdff-415a-b22e-a6d23d8cae5f"
      },
      "execution_count": null,
      "outputs": [
        {
          "output_type": "execute_result",
          "data": {
            "text/plain": [
              "array([0.1363079 , 0.37933918, 0.37102176, 0.13427884, 0.26341269,\n",
              "       0.76226287, 0.15293356, 0.30466228, 0.53350651, 0.75577249,\n",
              "       0.67147224, 0.58229596, 0.53506442, 0.10232621, 0.30528595,\n",
              "       0.53761615, 0.77043045, 0.96433142, 0.84136869, 0.73189857,\n",
              "       0.72355513, 0.88672345, 0.25237227, 0.41335682, 0.98861558,\n",
              "       0.69613968, 0.94667451, 0.21856575, 0.94941984, 0.60162646,\n",
              "       0.30466827, 0.65749082, 0.16532513, 0.95618848, 0.26721856,\n",
              "       0.98248581, 0.05201539, 0.34979438, 0.43563426, 0.01248749,\n",
              "       0.11842302, 0.64289692, 0.21191642, 0.65607448, 0.1149254 ,\n",
              "       0.21980067, 0.15562414, 0.08705475, 0.69979482, 0.80777631,\n",
              "       0.22489751, 0.90700459, 0.06928292, 0.78856688, 0.74335427,\n",
              "       0.04384611, 0.16280102, 0.84081488, 0.78472974, 0.71891843,\n",
              "       0.77490503, 0.6946525 , 0.73864967, 0.21376634, 0.90541009,\n",
              "       0.36728115, 0.2864266 , 0.24060604, 0.53597389, 0.59781868,\n",
              "       0.0042862 , 0.85483715, 0.46830628, 0.69835716, 0.5023966 ,\n",
              "       0.44829733, 0.88309283, 0.91881634, 0.77413946, 0.92541445,\n",
              "       0.59120712, 0.04926528, 0.9527022 , 0.65317365, 0.88808701,\n",
              "       0.16727139, 0.48263682, 0.5809038 , 0.08308357, 0.61775468,\n",
              "       0.65362374, 0.67804976, 0.17082683, 0.8632123 , 0.44468231,\n",
              "       0.665517  , 0.55554747, 0.85729703, 0.3741291 , 0.80580658,\n",
              "       0.13763085, 0.6943711 , 0.64803851, 0.07828585, 0.2119495 ,\n",
              "       0.15274042, 0.99521228, 0.8913832 , 0.48442984, 0.38092388,\n",
              "       0.3979652 , 0.82514118, 0.68592448, 0.33420121, 0.46469678,\n",
              "       0.62729137, 0.39671217, 0.41535447, 0.30986166, 0.19245706,\n",
              "       0.15979663, 0.91679577, 0.61589743, 0.01075982, 0.6017627 ,\n",
              "       0.02804821, 0.47510979, 0.31401428, 0.03142869, 0.28951511,\n",
              "       0.95784619, 0.03051755, 0.24102633, 0.68360217, 0.38994443,\n",
              "       0.63480143, 0.03274411, 0.25977661, 0.42984807, 0.19272591,\n",
              "       0.07799363, 0.97754647, 0.69786438, 0.27024089, 0.5961216 ,\n",
              "       0.55056293, 0.29336116, 0.30648919, 0.11046238, 0.88102687,\n",
              "       0.0899992 , 0.494916  , 0.87423348, 0.27029471, 0.60988177,\n",
              "       0.19509458, 0.63698986, 0.35645767, 0.97949908, 0.7691736 ,\n",
              "       0.77416101, 0.23619641, 0.16366937, 0.84255447, 0.02694466,\n",
              "       0.07666625, 0.19324648, 0.81283715, 0.44927896, 0.38418571,\n",
              "       0.13327623, 0.66686081, 0.31049437, 0.46770809, 0.63828715,\n",
              "       0.25207913, 0.2286945 , 0.22910712, 0.3009885 , 0.34351829,\n",
              "       0.95460628, 0.10949286, 0.89519944, 0.5021367 , 0.91800913,\n",
              "       0.69760071, 0.21192422, 0.86080946, 0.68952046, 0.99533947,\n",
              "       0.94262236, 0.33872543, 0.34936517, 0.12289075, 0.28516676,\n",
              "       0.5566089 , 0.19222947, 0.37644815, 0.3422622 , 0.18827765,\n",
              "       0.32755088, 0.35813777, 0.20437577, 0.48778208, 0.13841033,\n",
              "       0.02906828, 0.3871608 , 0.39042173, 0.8747662 , 0.91080548,\n",
              "       0.54321581, 0.73761593, 0.749425  , 0.06619447, 0.63084462,\n",
              "       0.3524057 , 0.81085218, 0.66968826, 0.69428254, 0.5562491 ,\n",
              "       0.34170688, 0.07115607, 0.04442964, 0.222998  , 0.24154249,\n",
              "       0.16782694, 0.00351428, 0.97341762, 0.93053525, 0.11425873,\n",
              "       0.91983876, 0.9557263 , 0.60105941, 0.8385525 , 0.36836389,\n",
              "       0.82644784, 0.03473234, 0.94968516, 0.47636205, 0.00862518,\n",
              "       0.3904425 , 0.30071915, 0.53926405, 0.23585629, 0.97573937,\n",
              "       0.15887244, 0.40048828, 0.83173929, 0.46101602, 0.05448605,\n",
              "       0.97368105, 0.47828336, 0.42099697, 0.75770336, 0.50958007,\n",
              "       0.24049362, 0.64610361, 0.85127398, 0.97904237, 0.9570417 ,\n",
              "       0.06190708, 0.4718369 , 0.38681372, 0.3857268 , 0.07943038,\n",
              "       0.33675363, 0.30442787, 0.10636323, 0.50451228, 0.48349392,\n",
              "       0.48283516, 0.81639908, 0.35155772, 0.83890661, 0.991176  ,\n",
              "       0.8296734 , 0.77259024, 0.11231137, 0.48396148, 0.34593066,\n",
              "       0.57863287, 0.03588036, 0.54190841, 0.28637851, 0.56632156,\n",
              "       0.71550948, 0.22220694, 0.90493346, 0.77396852, 0.28453755,\n",
              "       0.70134758, 0.86358163, 0.39365603, 0.60088231, 0.26510501,\n",
              "       0.35718241, 0.27438594, 0.54344551, 0.64534672, 0.80718569,\n",
              "       0.20576448, 0.84074125, 0.87439761, 0.46451937, 0.05983957,\n",
              "       0.55266629, 0.25359891, 0.27346396, 0.189217  , 0.17404257,\n",
              "       0.51421189, 0.15112879, 0.55043452, 0.57882546, 0.63186473,\n",
              "       0.63201621, 0.68949738, 0.03011953, 0.4259976 , 0.03118413,\n",
              "       0.68904779, 0.77264289, 0.05502193, 0.47929322, 0.84444113,\n",
              "       0.61774571, 0.38976064, 0.56369435, 0.1057332 , 0.69934706,\n",
              "       0.14112831, 0.81481573, 0.10279907, 0.79887685, 0.69638037,\n",
              "       0.5943933 , 0.59212243, 0.95941582, 0.70944746, 0.35083772,\n",
              "       0.91732005, 0.35763467, 0.32847751, 0.89402754, 0.13171068,\n",
              "       0.45581734, 0.20447488, 0.91818163, 0.80181256, 0.13096992,\n",
              "       0.62935016, 0.83515151, 0.6581501 , 0.58104597, 0.84788129,\n",
              "       0.42502495, 0.94441938, 0.47770734, 0.3152845 , 0.19416671,\n",
              "       0.72450055, 0.44298252, 0.86830155, 0.29332828, 0.27069381,\n",
              "       0.89231819, 0.81290775, 0.62440254, 0.46836182, 0.85754914,\n",
              "       0.29902237, 0.43757869, 0.4794361 , 0.60370003, 0.29226596,\n",
              "       0.28488453, 0.53223287, 0.74127543, 0.98950842, 0.94997968,\n",
              "       0.99620592, 0.75188922, 0.14816723, 0.17116644, 0.82096006,\n",
              "       0.20728185, 0.69498719, 0.99859099, 0.66026947, 0.36733619,\n",
              "       0.17333544, 0.79351525, 0.78012968, 0.42099445, 0.6136357 ,\n",
              "       0.02417776, 0.24328244, 0.0676898 , 0.63768768, 0.45995866,\n",
              "       0.86114256, 0.03255531, 0.72212127, 0.85932541, 0.79821811,\n",
              "       0.80528118, 0.63333069, 0.46131159, 0.08600107, 0.6943657 ,\n",
              "       0.66687542, 0.7389298 , 0.66580615, 0.80668109, 0.33745479,\n",
              "       0.20361391, 0.98008882, 0.95446244, 0.53764223, 0.35008121,\n",
              "       0.32307303, 0.67784495, 0.6339968 , 0.06899353, 0.62666181,\n",
              "       0.35328588, 0.18318521, 0.42794419, 0.99674897, 0.54473083,\n",
              "       0.47453448, 0.99141288, 0.92113507, 0.05417055, 0.64069679,\n",
              "       0.67028161, 0.37330415, 0.09839828, 0.77997652, 0.023459  ,\n",
              "       0.97122973, 0.59426405, 0.67796981, 0.43563454, 0.42252156,\n",
              "       0.79116824, 0.80406219, 0.24303282, 0.51159428, 0.85838096,\n",
              "       0.3077924 , 0.16562024, 0.3959155 , 0.29554294, 0.15378046,\n",
              "       0.99837194, 0.00797855, 0.58972276, 0.40654503, 0.10273883,\n",
              "       0.04794051, 0.28713636, 0.62475502, 0.32454162, 0.51371289,\n",
              "       0.87652578, 0.62218088, 0.0036648 , 0.65903393, 0.12044196,\n",
              "       0.73935732, 0.37229198, 0.85098187, 0.76344432, 0.93334578,\n",
              "       0.53951843, 0.54900962, 0.47535993, 0.60739243, 0.12860355,\n",
              "       0.80606745, 0.76505873, 0.25473985, 0.77288949, 0.18488031,\n",
              "       0.06429033, 0.20474852, 0.51851053, 0.93960132, 0.90207681,\n",
              "       0.04091606, 0.17757597, 0.11962849, 0.52954823, 0.41911041,\n",
              "       0.53739221, 0.67106965, 0.80990507, 0.87121127, 0.31486322,\n",
              "       0.56064986, 0.44588542, 0.65139398, 0.70670423, 0.17556376,\n",
              "       0.71661752, 0.09596143, 0.37423904, 0.71173186, 0.73696169,\n",
              "       0.76864238, 0.78566707, 0.99059362, 0.90047133, 0.03692337,\n",
              "       0.86988441, 0.39948537, 0.28175873, 0.12286482, 0.63988147,\n",
              "       0.35691913, 0.14540351, 0.98227591, 0.43230217, 0.81254494,\n",
              "       0.08050715, 0.46097209, 0.42039419, 0.19175569, 0.98901544,\n",
              "       0.55081567, 0.84028435, 0.59884726, 0.35114904, 0.48111313,\n",
              "       0.22528171, 0.70450239, 0.41362377, 0.1638176 , 0.57450367,\n",
              "       0.30073833, 0.16200443, 0.27031317, 0.37741809, 0.39786113,\n",
              "       0.58743361, 0.64767973, 0.74547813, 0.16596185, 0.12889015,\n",
              "       0.82690533, 0.52769811, 0.23144458, 0.91073208, 0.54584887,\n",
              "       0.57698897, 0.74042906, 0.41675356, 0.3086939 , 0.06002168,\n",
              "       0.65675315, 0.50110286, 0.68857608, 0.67282611, 0.7211384 ,\n",
              "       0.89930598, 0.96134411, 0.83456963, 0.81319063, 0.50761166,\n",
              "       0.62256816, 0.58465202, 0.25230143, 0.68362282, 0.531156  ,\n",
              "       0.65636364, 0.45699076, 0.5205272 , 0.74462567, 0.20183823,\n",
              "       0.92535434, 0.7206637 , 0.54118447, 0.96100998, 0.08431837,\n",
              "       0.77828286, 0.12787007, 0.63141195, 0.87775151, 0.27129219,\n",
              "       0.37358034, 0.05401272, 0.59566298, 0.02610412, 0.71949792,\n",
              "       0.70213704, 0.93477965, 0.6841707 , 0.67692988, 0.18483263,\n",
              "       0.43470442, 0.04100592, 0.56813441, 0.50858505, 0.25541198,\n",
              "       0.7307255 , 0.983735  , 0.78467867, 0.30994957, 0.0468268 ,\n",
              "       0.18779212, 0.20357   , 0.93472215, 0.74123266, 0.45022774,\n",
              "       0.26300675, 0.61504627, 0.24920321, 0.2937687 , 0.86961222,\n",
              "       0.98057098, 0.01515478, 0.08139613, 0.03168522, 0.49306239,\n",
              "       0.70255936, 0.0481721 , 0.69388647, 0.58900115, 0.57602862,\n",
              "       0.19302363, 0.05699213, 0.54111734, 0.62405545, 0.68026706,\n",
              "       0.18056219, 0.18487562, 0.75209536, 0.69365754, 0.1372355 ,\n",
              "       0.29147368, 0.61024067, 0.19910622, 0.69009296, 0.67431528,\n",
              "       0.56109526, 0.48396871, 0.10685425, 0.80311476, 0.93086417,\n",
              "       0.23440028, 0.58821374, 0.36856652, 0.79707322, 0.72457046,\n",
              "       0.71732844, 0.76055288, 0.64654386, 0.67869145, 0.28239102,\n",
              "       0.03161307, 0.90572483, 0.05992793, 0.59277412, 0.83286233,\n",
              "       0.60021977, 0.48452336, 0.34367137, 0.64523351, 0.57830922,\n",
              "       0.00667408, 0.66730891, 0.13036661, 0.86782339, 0.39772679,\n",
              "       0.50766255, 0.56956721, 0.49505896, 0.49578266, 0.11660308,\n",
              "       0.40567127, 0.17597942, 0.17877107, 0.78266544, 0.98175258,\n",
              "       0.38941959, 0.22635299, 0.8209132 , 0.57798991, 0.18888246,\n",
              "       0.91494486, 0.58355838, 0.85084198, 0.7723394 , 0.10467222,\n",
              "       0.63453306, 0.14246957, 0.32994823, 0.91336099, 0.38181783,\n",
              "       0.86013716, 0.95589802, 0.65876541, 0.34537271, 0.29907689,\n",
              "       0.63183304, 0.77780694, 0.86590698, 0.39669175, 0.7598878 ,\n",
              "       0.86498756, 0.4291713 , 0.17725492, 0.84325731, 0.83789408,\n",
              "       0.03326943, 0.19205774, 0.45245377, 0.67793848, 0.49308235,\n",
              "       0.78289202, 0.37473569, 0.98142712, 0.93639467, 0.65561599,\n",
              "       0.93383935, 0.52666817, 0.74754714, 0.62834973, 0.28518882,\n",
              "       0.5576729 , 0.32495118, 0.8700289 , 0.65940662, 0.40416592,\n",
              "       0.69985507, 0.55571118, 0.26852043, 0.39366571, 0.71411761,\n",
              "       0.96868341, 0.43636086, 0.55224708, 0.76103311, 0.00170533,\n",
              "       0.35149849, 0.66481853, 0.47215369, 0.70350298, 0.38415835,\n",
              "       0.13768393, 0.64809893, 0.2723311 , 0.59638503, 0.240563  ,\n",
              "       0.89799374, 0.06216875, 0.13256271, 0.04629629, 0.20163894,\n",
              "       0.50770019, 0.44008063, 0.8769709 , 0.61537938, 0.16195175,\n",
              "       0.1630163 , 0.24860346, 0.68765036, 0.37942386, 0.6705852 ,\n",
              "       0.91469705, 0.83491619, 0.19518062, 0.22388691, 0.94619922,\n",
              "       0.81757563, 0.69180719, 0.62460806, 0.84745807, 0.94909987,\n",
              "       0.24808497, 0.84768095, 0.40376455, 0.47484819])"
            ]
          },
          "metadata": {},
          "execution_count": 10
        }
      ]
    },
    {
      "cell_type": "code",
      "source": [
        "w.shape"
      ],
      "metadata": {
        "colab": {
          "base_uri": "https://localhost:8080/"
        },
        "id": "7vC2MfNk-cy2",
        "outputId": "57a6bdf1-eb52-40ff-9fc2-2b22c8a7a864"
      },
      "execution_count": null,
      "outputs": [
        {
          "output_type": "execute_result",
          "data": {
            "text/plain": [
              "(784,)"
            ]
          },
          "metadata": {},
          "execution_count": 11
        }
      ]
    },
    {
      "cell_type": "code",
      "source": [
        "x_train.shape"
      ],
      "metadata": {
        "colab": {
          "base_uri": "https://localhost:8080/"
        },
        "id": "D_sGYE8P-iU9",
        "outputId": "47c577f4-5969-4872-d74b-f657f5006176"
      },
      "execution_count": null,
      "outputs": [
        {
          "output_type": "execute_result",
          "data": {
            "text/plain": [
              "(12665, 784)"
            ]
          },
          "metadata": {},
          "execution_count": 12
        }
      ]
    },
    {
      "cell_type": "code",
      "source": [
        "epochs=1000\n",
        "tolerance = 10e-8\n",
        "Cost=np.zeros(epochs)\n",
        "eta=0.1"
      ],
      "metadata": {
        "id": "mQgpp7Np9IC7"
      },
      "execution_count": null,
      "outputs": []
    },
    {
      "cell_type": "markdown",
      "source": [
        "# Gradient Descent Function"
      ],
      "metadata": {
        "id": "hA-E1HNiBJP9"
      }
    },
    {
      "cell_type": "code",
      "source": [
        "def Gradient_Descent(X_train,Y_train,w,b,epochs,eta):\n",
        "    for i in range (epochs):\n",
        "          z=np.dot(x_train,w.T)+b\n",
        "          phiZ = sigmoid(z)\n",
        "          Cost[i] =cost_function(phiZ, y_train)\n",
        "          w = w - (eta * np.dot((phiZ - y_train).T , x_train)) /len(x_train)\n",
        "          b = b - eta * np.mean(phiZ - y_train)\n",
        "          if (Cost[i]<tolerance):\n",
        "            break;\n",
        "    return w,b"
      ],
      "metadata": {
        "id": "qRXbmTa29IFw"
      },
      "execution_count": null,
      "outputs": []
    },
    {
      "cell_type": "code",
      "source": [
        "w,b=Gradient_Descent(x_train,y_train,w,b,epochs,eta)"
      ],
      "metadata": {
        "id": "94nsHkqp_By_"
      },
      "execution_count": null,
      "outputs": []
    },
    {
      "cell_type": "markdown",
      "source": [
        "# Test Data"
      ],
      "metadata": {
        "id": "pi_l-NOPBM7W"
      }
    },
    {
      "cell_type": "code",
      "source": [
        "# Test with same data and look at the accuracy\n",
        "z=np.dot(x_test,w)+b\n",
        "y_pred =sigmoid(z)\n",
        "for i in range(len(y_pred)):\n",
        "  if (y_pred[i]>0.5):   #Threshhold\n",
        "     y_pred[i]=1\n",
        "  else:\n",
        "     y_pred[i]=0\n",
        "\n",
        "\n",
        "accuracy=np.mean(np.equal(y_pred, y_test))*100"
      ],
      "metadata": {
        "id": "SCbneAFh9IQA"
      },
      "execution_count": null,
      "outputs": []
    },
    {
      "cell_type": "code",
      "source": [
        "accuracy"
      ],
      "metadata": {
        "colab": {
          "base_uri": "https://localhost:8080/"
        },
        "id": "AH-QMpN89IS1",
        "outputId": "ec6008ad-4ca6-4ded-f290-f0f38ff90d62"
      },
      "execution_count": null,
      "outputs": [
        {
          "output_type": "execute_result",
          "data": {
            "text/plain": [
              "99.71631205673759"
            ]
          },
          "metadata": {},
          "execution_count": 17
        }
      ]
    },
    {
      "cell_type": "markdown",
      "source": [
        "# Confusion_Matrix"
      ],
      "metadata": {
        "id": "jWeqEzLvm_vZ"
      }
    },
    {
      "cell_type": "code",
      "source": [
        "con_matrix=confusion_matrix(y_test,y_pred)"
      ],
      "metadata": {
        "id": "L8vCbwyKW_Bs"
      },
      "execution_count": null,
      "outputs": []
    },
    {
      "cell_type": "code",
      "source": [
        "sns.heatmap(con_matrix,annot=True,fmt=\"d\")\n",
        "plt.ylabel('True')\n",
        "plt.xlabel('Predicted')"
      ],
      "metadata": {
        "colab": {
          "base_uri": "https://localhost:8080/",
          "height": 467
        },
        "id": "skuBFTu6XCWk",
        "outputId": "23039e97-4120-41ae-8140-432512013c35"
      },
      "execution_count": null,
      "outputs": [
        {
          "output_type": "execute_result",
          "data": {
            "text/plain": [
              "Text(0.5, 23.52222222222222, 'Predicted')"
            ]
          },
          "metadata": {},
          "execution_count": 19
        },
        {
          "output_type": "display_data",
          "data": {
            "text/plain": [
              "<Figure size 640x480 with 2 Axes>"
            ],
            "image/png": "[encoded data removed]"
          },
          "metadata": {}
        }
      ]
    },
    {
      "cell_type": "markdown",
      "source": [
        "#Classification_Report"
      ],
      "metadata": {
        "id": "fK0BlEJHnFDp"
      }
    },
    {
      "cell_type": "code",
      "source": [
        "CR=classification_report(y_test,y_pred)\n",
        "print(CR)"
      ],
      "metadata": {
        "colab": {
          "base_uri": "https://localhost:8080/"
        },
        "id": "8XUhIDsKXFC1",
        "outputId": "524c2b9c-28e0-4992-e26c-57b363a342dd"
      },
      "execution_count": null,
      "outputs": [
        {
          "output_type": "stream",
          "name": "stdout",
          "text": [
            "              precision    recall  f1-score   support\n",
            "\n",
            "           0       1.00      0.99      1.00       980\n",
            "           1       0.99      1.00      1.00      1135\n",
            "\n",
            "    accuracy                           1.00      2115\n",
            "   macro avg       1.00      1.00      1.00      2115\n",
            "weighted avg       1.00      1.00      1.00      2115\n",
            "\n"
          ]
        }
      ]
    }
  ]
}