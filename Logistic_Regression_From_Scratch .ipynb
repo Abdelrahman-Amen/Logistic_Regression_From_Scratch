{
  "nbformat": 4,
  "nbformat_minor": 0,
  "metadata": {
    "colab": {
      "provenance": []
    },
    "kernelspec": {
      "name": "python3",
      "display_name": "Python 3"
    },
    "language_info": {
      "name": "python"
    }
  },
  "cells": [
    {
      "cell_type": "markdown",
      "source": [
        "# Import Libraries"
      ],
      "metadata": {
        "id": "Ja4J3aJQAknK"
      }
    },
    {
      "cell_type": "code",
      "execution_count": 1,
      "metadata": {
        "id": "do_6sLhB9GLU"
      },
      "outputs": [],
      "source": [
        "import numpy as np\n",
        "import pandas as pd\n",
        "import matplotlib.pyplot as plt\n",
        "import warnings\n",
        "warnings.filterwarnings('ignore')\n",
        "import tensorflow as tf\n",
        "from sklearn.metrics import confusion_matrix\n",
        "import seaborn as sns\n",
        "from sklearn.metrics import classification_report"
      ]
    },
    {
      "cell_type": "markdown",
      "source": [
        "# Load Data"
      ],
      "metadata": {
        "id": "tDPfXpC2Aqnx"
      }
    },
    {
      "cell_type": "code",
      "source": [
        "#loading the data\n",
        "(x_train, y_train), (x_test, y_test) = tf.keras.datasets.mnist.load_data()"
      ],
      "metadata": {
        "colab": {
          "base_uri": "https://localhost:8080/"
        },
        "id": "wrDl5hNH9HoE",
        "outputId": "25bbae57-a429-4637-83ce-842ad1610b1a"
      },
      "execution_count": 2,
      "outputs": [
        {
          "output_type": "stream",
          "name": "stdout",
          "text": [
            "Downloading data from https://storage.googleapis.com/tensorflow/tf-keras-datasets/mnist.npz\n",
            "11490434/11490434 [==============================] - 0s 0us/step\n"
          ]
        }
      ]
    },
    {
      "cell_type": "markdown",
      "source": [
        "# Subset 0,1"
      ],
      "metadata": {
        "id": "y11mOl1bAwDU"
      }
    },
    {
      "cell_type": "code",
      "source": [
        "# subsetting for classes 0,1 only\n",
        "\n",
        "x_train = x_train[np.logical_or(y_train == 0, y_train == 1)]\n",
        "y_train = y_train[np.logical_or(y_train == 0, y_train == 1)]\n",
        "\n",
        "x_test = x_test[np.logical_or(y_test == 0, y_test == 1)]\n",
        "y_test = y_test[np.logical_or(y_test == 0, y_test == 1)]"
      ],
      "metadata": {
        "id": "RgusNko69Hr_"
      },
      "execution_count": 3,
      "outputs": []
    },
    {
      "cell_type": "code",
      "source": [
        "np.unique(y_train), np.unique(y_test)"
      ],
      "metadata": {
        "colab": {
          "base_uri": "https://localhost:8080/"
        },
        "id": "kShtCvZU9Hu8",
        "outputId": "7fddedd8-4487-46be-9adb-97558a3b851f"
      },
      "execution_count": 4,
      "outputs": [
        {
          "output_type": "execute_result",
          "data": {
            "text/plain": [
              "(array([0, 1], dtype=uint8), array([0, 1], dtype=uint8))"
            ]
          },
          "metadata": {},
          "execution_count": 4
        }
      ]
    },
    {
      "cell_type": "markdown",
      "source": [
        "# Flatten Data"
      ],
      "metadata": {
        "id": "X_S90AbjA1Mu"
      }
    },
    {
      "cell_type": "code",
      "source": [
        "x_train=x_train.reshape(len(x_train),-1)\n",
        "x_test=x_test.reshape(len(x_test),-1)"
      ],
      "metadata": {
        "id": "cfV-IoQW9Hxe"
      },
      "execution_count": 5,
      "outputs": []
    },
    {
      "cell_type": "markdown",
      "source": [
        "# Standardize Data"
      ],
      "metadata": {
        "id": "fEq9ZHuXA4qV"
      }
    },
    {
      "cell_type": "code",
      "source": [
        "x_train=(x_train-np.mean(x_train,axis=0))/(np.std(x_train,axis=0)+10e-16)\n",
        "x_test=(x_test-np.mean(x_test,axis=0))/(np.std(x_test,axis=0)+10e-16)"
      ],
      "metadata": {
        "id": "8-tK9WSC9Hz0"
      },
      "execution_count": 6,
      "outputs": []
    },
    {
      "cell_type": "markdown",
      "source": [
        "# Sigmoid Function"
      ],
      "metadata": {
        "id": "5jmQWUbfA9A-"
      }
    },
    {
      "cell_type": "code",
      "source": [
        "def sigmoid(z):\n",
        "    return 1.0 / (1.0 + np.exp(-z))"
      ],
      "metadata": {
        "id": "O9HBqIyr9H2k"
      },
      "execution_count": 7,
      "outputs": []
    },
    {
      "cell_type": "markdown",
      "source": [
        "# Cost Function"
      ],
      "metadata": {
        "id": "Uwdc_gMEBBGf"
      }
    },
    {
      "cell_type": "markdown",
      "source": [
        "![Screenshot 2024-03-22 152509.png](data:image/png;base64,iVBORw0KGgoAAAANSUhEUgAAAr0AAACICAYAAADqDFPvAAAAAXNSR0IArs4c6QAAAARnQU1BAACxjwv8YQUAAAAJcEhZcwAADsMAAA7DAcdvqGQAAGcmSURBVHhe7d0HoCVFlQbgnhmiBEFQkmQUxASKSpAoChhRVFZXVEDXXUUFXTO6BoyIYiaJShIEIwaSIKCCKAioZEVAQDJIHCbc7e/MO4/m+tIMb4aZx/mH4t7XXV3h1KlTf52q6jup16IpFAqFuQQmZubMmfH99ttvb77zne80X/va15pnP/vZzate9apm8803byZPntxcffXVzdSpU+N7Pzw/bdq0ZvHFF29WW2215nGPfVxzz733NFdeeWXzla98pTnrrLOaV7ziFc1rX/vaZq211hpMY9KkSfE5VnTN4ew+WygUCoX5G0V6C4XCXAUTIyCR99xzT3PKKac0hx9+eLPBBhs0L3nJS5r11luvWXTRRQeJcSJM04B1ijTaf9KYMmVKXLvpppuaU089tTn77LObu+++u1lppZWaLbbYonn2s57dLP3opSNOoVAoFAqJIr2FQmGegbm54447mhtuuKFZZpllmmWXXbZZZJFFBu4OEN0BDH5vP8Lr2ud4vf/++5sbb7wxPtMru+SSS0a63TQLhUKhUIAivYVCYZ6CR7fr1eW5HctWgn5T5ZkZM2bEtof0AIuT38eSZqFQKBQeOSjSWygU5imS9Hb37k6e1H4fhaP2myp/T58+Pb4HyR1IANmdNLkIb6FQKBQejCK9hUJhniPNTn4OdXiti66Z6npwXc+/+01ZeXoLhUKh0EWR3kKhMM8xHIlNjGSWhiOzRXoLhUKhMBJGdq8UCoVCoVAoFAoTAEV6C4XChEB5dguFQqEwEmp7Q6FQKBQKhUJhwqM8vYVCoVAoFAqFCY8ivYVCoVAoFAqFCY8ivYVCoVAoFAqFCY8ivYVCoVAoFAqFCY8ivYVCoVAoFAqFCY8ivYVCoVAoFAqFCY8ivYVCoVAoFAqFCY8ivYVCoVAoFAqFCY8ivYVCoVAoFAqFCY8ivYVCoVAoFAqFCY8ivYVCoVAoFAqFCY8ivYVCoVAoFAqFCY8ivYVCoVAoFAqFCY9JvRYD3wuFuYaZM2c2k9p/vfaf79Ru0qRJzeTJk5tp06Y1iyyySPw9Y8aMiJ/3p0yZEn8XCoVCoVAoPBSUp7cwT4DcIrIzZ8wcJL0w1Of9998fn0V4C4VCoVAojBfK01uYZ7j55pubP//5z821117brLDCCs2qq67aXHLJJc0VV1zR7LTTTs3yyy/fnHnmmc25557bPOc5z2m22WabIr6FQqFQKBTGBVM+2mLge6EwV3HV1Vc1Rxx+RPOjH/2oue6665qbbrqp+eUvf9kcc8wxzUILLRTk9xe/+EVzxBFHNLfcckvzpCc9KchxoVAoFAqFwkNFbW94BGB+ceavstIqzSqrrBJ7eHl911xzzeZNu7+pWWrJpZof/OAHse3hve99b7POOus0iy+2eBHeQqFQKBQK44YivY8AOBA2ffr05vLLL2/OOeec5p577hm4M2/B03vxxRfHloUtt9yy2XDDDZtLL720ufe+e2Mrw84779ycffbZzd/+9rdm/SevX6S3UCgUCoXCuKFI7wTHXXfd1fz+nN83Bx10UPPhD3+4+djHPtbceOONA3fnLf7+9783f/3rX5u11167eclLXtIstthizcmnnNwstdRSzW677RZ7eo8//vi4zgtcKBQKhUKhMF4o0jsBYZsAXP/P65uf/exnzVe+8pXmk5/8ZGwhuOqqq8LrO6/hjQw8uMstt1yzySabNCuvvHLs673hhhuCAD/ucY9r7rjjjojzjGc8I7ZAXHbZZQNPFwqFQqFQKDw0FOmdYLB/N/fwTpk0pVll5VWaLbbcIt6GsPjii4cX1evD5jVsrfj973/fPPrRj2422mijuHbeeecFQX/BC14Q1xFyWzF4g6+++uqIUygUCoVCoTAeqFeWTTS0rTmzN+tduJMmT2qmTJ7SXH/d9c1XvvqV2OJga8F3v/vdZq211hp4YN7Aa8ouuOCCZumll26e9rSnNQsvvHC8vuyf//xns9lmm8X1O++8s/nJT34SZd94442bdddd92Eh6IVCoVAoFCYeivROQGjS3OLg0BhiaYvDgQceGG9GOOqoo8ad9ParEY9tF35pTRwk1j3fXfM9ia3Pu+++u1l00UXjuzj1nt5CoVAoFArjgXKjTUAgkshil0wmCe0np+MF+4SnTp3a3HfffbEfN4B3D2TXLU8SXd5enmhlEhD1JZZYIu75nsRYSBJfKBQKhUKhMCco0juBkUS3i7lBeqWJvM6YPiNeh3bXnXfFobTb77g9gu8Z/vWvf0WwlSG+3/mvB99v/477/7oz3jyRQXyf+RPFc6MehUKhUCgUJi5qe8MjAF5R9uUvf7k54IADYlvD0UcfPVf29Pp1NW+L4PFdcsklm2n3T2s1bOBmC97a7naGJK/pxXVd6Hp2Uz0957292223XfPkJz+5WWSRRR6UVqFQKBQKhcJIKNI7AdFtUsRwXpHe3/72t83nPve55sc//vHAlfGD7REOtu29997NS1/60ngThXoivUN5tOc1lEU5EHZbPPztTRl+XjnBUy2OshdZf3jg563J/1GPetTAlVmwPefee++NyZo2yvYsLNgwAbfdyiRZ6OLWW28dfKNNtjlUuxdGQ9oHzhn23qezKOx96o/zKUC/6mzK/IMpH20x8L0wAaAzhvFmv9vgDQ7Ill9i+8Mf/tAsu+yyzStf+cr4HG+suuqqzWqrrRYk2zt2u69HQyY22GCD5lnPelaz3nrrNU94whOaJz3pSUFkffcpuLbGGmtEWl5jZsAycCEp3uW73Qu2a9Zca81BMjl5Upv+fDJGIU1+Uc6r2ZT7scs/NrzdF110Ubyp4pprrml+8YtfNMsss0zzmMc8ZlA22gtZLiI8d5ArDH4N8Hvf+168KWSllVaKNvKaPG3mndEmbQYu7WOQyoGtsGAh2+36669vTjvttGhjbepHcG666abmjDPOCJtCH9ynD34Yx3N0RT+sti+MBjp07rnnNmeddVaMscYnY+4lF18yaO9PPPHEGKusUqZeQdn7hw8l9QmIlvZG58oONi+gE8tv0003bfbaa694LZkZMA+aewaQZz7zmc1nP/vZ5oc//GG8muxHP/pReIX9Cpu/89oJJ5wQg5G/3/nOdzaPf/zjY9acRKQ3c1a9EPr5ifD+/Oc/b7797W8HgfLjG4s/avHm1ttubb729a81r3nNa6L83kG83377xQQkYaCdl231SEH2AfI1+LztbW8LorviiivGfYPWKaec0rz5zW9uzjzzzJisfepTn4rv7tHZapcFD9rNrz9a2dK+gPSyQ3/605+aD37wg83hhx/ePOUpT2nOP//85otf/GK8MzxJCH0pFEaCsyV069BDD4130LP3HDt333N3c+i3Dm12euVOMf4ZC7761a82p556ajyXNqV07OFDeXonIJBe/wFD7nBZenp5GF/96lfHIDCeMKAkuTWrXX311cPjaQnRNSQC4fPJixuz4hYMgOfSCIib4Ol9+tOfHp9m0zw1W2+1dXh6vflhkn+d+A8XlP3ss85uDj/i8CD7CK46Ilhm+b4bYLfccsvmVa96VXPkkUdGe9hiwuOoDtppfqjLRIE2SZ2k9//5n/8Z7fJf//VfoXtJiC1vW3nYcccdm2c/+9nh/fvVr34Vvxxo1aKWJWf1UVgQ9FNZ/crjN77xjeaKK66Idt9hhx3CXtCJhRdaOGzf1ltvHf3Sqtdhhx0W9sXrHJEXE3V1rf5YGA48vEcccUQ4ZHbZZZfQHat67Pgqq6zSrL/++s0WW2zRvOIVrwhyfPLJJ0dc4yKwK6VfDw8mhKeXMeP9i4HMJ0/gAOlLMpWDXIaE+2ZkyFjGNVAOxnkg6gKDIIO8oC3IAunlKWXMc++iz5kzxs/DiNzl4TJEgsd3zz33jI4OOvltt93WfP/732+OO+645h//+EdcHxxc2mJkG3aB6DIeL37xiyMNP7wh/sNNEpWTnpCjH9449rhjo0zPe97zwujRp9tvv7255JJLYh/p5ptvHq9jg3322Seu8xIgxlkPafbXn06KI4xXW42GocoBOTnp3ve3unb7z9xA5i1MnzZ9Vh8fAWRKJ70J5Gtf+1ocfkR6kVnQJn4shSfmqU99amypQYb9JLY3hRioeAtBntnWiX4ZCP7Ocvrsxpkf0N+/fM9yZ8hy5/0M87sdzHLywP3617+OrSpbbbVV/KQ5sIF+4vzSSy9t1lxzzZjo8MzBBz7wgebKK68MPSEPBPlBdZ8NiK+vdnVlbkJ+XX1LuJZtCxkv//Z9XpVxdtAtH5tCllnubvkfCqSR6XS/jxXee+8n/Y2jHBl+8Ine3XnXnWHXjQd+cImzBt73vvdFXb70pS8F1+jae3Xqfs+QZepv14Q4MYYPPD8UPDfUs490LBCe3iQQXmnFeN1z9z2Dr77S6P0EaPKUybHMwMgZ1HI5MyGu56R5xeVXNH849w8xAPrbXleDnn2YFO7Ry8xSXPG7ecyvyDKSCaJ70cUXxdKK7QKWb9038DMmyzx6mViCHw0698033xweFJ/2xenYOrC9tt1Zq0/BdZ4UMrSEqA2REDL2LGJsL28SwcE27BOxPbvINKNy+umnx88pP/GJT4z9wpD5zmvQB4Hh4bX9+te/HrN7pJcOkYk9XX4I5Fvf+lZ4l9Z/0vpR7uWWXy5m/pZa1YXHN42boE485H6KmRElP7Lnpc96zy1kGbIcPpVFX9IGeQDMNRMXS3uWhu2bRBoXW3TWoaCHCgRNOmRMb8nB91imnjkj+vhI+eSz9tbx+v33f/93s+GGGw7K7+abbm6OPuboZv8v7h925IUvfGHUVbt5hry1C4IE9uxdeOGFocfaV3sBvfWcvz2jTe0Rpd/yh/GQx0MFeaaOKZdVF+XVJ8nENXUH/do9clhiySWaRy32qLivHvNDXfqRdRKU28RaHXjgTGYg99tbaubVNQlFetXfaguizOZbWTJp1a9TBuKRUX/d5Zuf9g/rA84y2B4jf/ZvbkPeyuoznAKtDPQXKxbKzXZ2x0d2X72U03iaqx7zQ7sqm7KbmPDS//GPfww56vN5CFFdxgP6M/uMwGpbe/nHArLi5WVT6Imf0CdD8jMuHnvssXHvUUs8qll/vfVjfMMhrDbRC/bEuRXtxJ6aWGsP+Xd1zKd2NQawsdLJ+8qQQRwyk478b7v9trBn0qbbJnCFB2OBIL0alVGyx/OnP/tp7Pk86cSTmksvuzQ6NqXLxp2y0JTm1ltubX78kx/Hz+0afBgyCgI6jffJIrmMIzJI8Q2q0jeoMYK+G8B0OKFL7BYEKCujpp4MN7LiIJlOx5Cop+9J6kcCA2lJ3iEghohRkq4Ot+Yaa0aH7ZeNv5d41BLN6musHp2RJ8WEBXh8kWdyRfosOQIi0w/p8FqLrz2QXjPrNFIPR5swWPQpl0yVy+vanvvc58ZBPd7plL/r5P/6178+lsDop3uuM4Lq4rnUT2CwECx7n8ndcjvwSKb3YG4hjaky0hFtbZ+19mbkbV1x/S9/+UvsYVY++2VNsGwPWGrJpcZnYGrFgaj9+S9/jkkDHaSvJrDK1x3Ih4MymfCR9e677x4EKJ9baOGFwhvoHu+ulQnp6ucIocFGfbWPAddE2CFEe9AdeiKHJInS9Cwbcthhh8VkQF70IGXhfmK0cs8NtL2o6U3qNXffdXfonTe48Ezpv/ohneP9RjbYRDJnAzfaaKNm5VVWDj0fi8wfDoS+ql/7qe2+853vhL0zkTFRBASADTLZdGDW5FT/1YbqRYd/85vfhD2ix+provfNb34znqN35NStv+/iCVYGEJ5jjjkm+osxhE7NCyiHerDrJqDaVjvaUmV8VD9ECDHS9ibiP/3pT+M5dQ35zQftqo/97ne/iz5EjpwJ+pk20Z7jVUZ6/qvTfxUcwvvg2eV0vowFJhT0yCRaG6demFhxzJhcve51r4vVhEUWnUXWTbQ889jHPjZeu0lnjIcINLvCVtHVbC9IUkyvOO84q7Kc8hOMMewY/TU2y0N66miVdW4cWF/QMT7TprkMCm8vDKX66fE/DaN2yi9PiQ7BGAXhbfsDQnHdtdfFAQbGSoNvvPHGgwMOZTKbPOPMM+IVXg5QUbSddtqpee1rXxszfUvPFMayBUUza6NU2eGklWEk5P1u/JFCf9yHgiyrQRcJ22233eLwhmW8D33oQ82bdn9TGP2xEF4gDyeeGXYd1SQCUTN4IAQ68FBlJm+DPy/bNttsEx0axEXqLO9Ll+fOtgXpdOFv3inpWJ5+97vfHUaaPkhjuHznBuTTDQnflcPkiocvPRJgoDGLZ3yQp4UXeWDWnUSDxxTUUbvlp72FZvZ0EuEnx34D1i3HcBiuzF3Pchf+lv99U2cNoAcfdHB4KXgnkEDlQyD0R/VFRpECuqBO2lEa2TZD5TEU8plcRqcTp552avPpT386PDIOQeZr9saSHujrdFe62S5T758a23rCK9JOvhAD+3nl6/pCU2Z5Pg1C5I5IgMGGLVF/r+Uz8XbP39InE549E0tE+vOf/3x4aNIjHPUafiXy35ByU4dc4cprKduxYDBeaxL8aIxlWasSJqxWHhB44Pli5zgK2E7EA+kgh4BkxpbluCPrncjv5CBEn2knxr6Tl9Uk37vQ1oigZ5///OcH+dBmaSt99xybD0ikPmh7BCLjZ9z1h0w3yjSwxUYa9N9k0DkGadkPPhT66wL917JeQ8VLdJ9RVmOjCd5BBx0UZJ3d1x/JBpQLeWJzBU4k9YX+fB4ucGSYLGgbJBEJXmvttR6w9wO2ZXYQz3VkySOvDxz/k+Ojbz7lqU8JO9aP/ny6f2tvNsJzPhPawIQXJ2HvF1v8gXtst7Zgd0AabBJi7B7SakLN1oH+CSb6HD3a6+CDDw57C+okDeMO0m48Ni6zFSY0Jjd0vvDvmO9Jr8bVeXkcND4FMQC9/OUvj9lUEi8d3yC1//77N0d996hm4+dsHETPEjoFysHpvHPPC1JsIKcoPECIFCNhUOf15ZmzJ4d3jmFAfC0xJ6STpGE4pDF9OKFDML4Ii86jfgjYek9aL5bikWJ1GQ0mFTq3QcABEJME78o1IGTHJosHBSNkKwLtIh7ijTSkkdAm2sBgQrYjlUMayr799tsH2TKodGXfzXe8wMBqYyHb24Caxkj7+p75IrAGvbwPDCDii/DTYWmkXiBMqZcJ9wTGX3tpOxMFbZZem4Q8lSf1UPBdmsrr737ktYw7pMzbKMp08UUXN4ccckjzx/P/2PzHf/xHtDdPg3vaEMFj2HmeTT55PLrl65YjP7thKMT1VjzqZQD/v//7vxj4HD7jjTXIiENGyp+QfrfO3fz0AfqTbRX1mzI5CJ2BlRcpDqFMn7VnOveM0/kuKVJnduL9739/6OInPvGJGKiS+CJA+gebZAIt/QMPPDAmBIks31iRnh6DnbwQU+XJuo2GrlwMhn44hi2zMkam9sqTD6irdrTsb4KpXems6xB19G8g77GW4aFCHqnXAmS9UvcTyqfdkCRt3u1b+iIvovgxAW3jCdm+0vI96+tvDpE3vOENcfDXmHD44YfHqk6gzTZ1RT5WYegn3TWuGK8i2oCchCjz9Fk2JcuedYH8HNyKIpMhIJ5nQf50kHePd973N73pTc32223fLLlE2x8HkiAT46dxzvjpbyHRLefDBbpovBa0jb5pi4AtU+RGLnNSRvHJyQTYyhRPPGLqkCN59DtufJp0a4OEa13967f37psw4Q8cZnhKtieI65muvslXHW3DMaHnVLK6gsfQQ79yuvxyywfXceCSg8ikhk0hH3rH5jo8/aIXvSgOzem/+ndyIlC2DIUFgPRmQ1EoS61mSmaCyJdOS3nSuJnBOlC0ySabxGuzKJ77qWgGkCOPOjIGO6SPhydn5JSXUoLtFAYJRsIBKn9TtvTKgTwz3aGg3NmRxhKig6jqOOtlps2LFZ8DwXXlF3wfDRnfpw6c6XbTeRDaJN0TdFCeZQOI2Wi2FwOdXhRt029kpNmVc3+emc64gzja5mA0cvAMI9R+z7r67ppgEFEuBs9sH3gUDJBkhSSpX8oNkDkkMk/zQtbTpxm/yYD4DGIewOoiy5Ihy5Ry8Ww3JNxPo+g598hesFryj2v+0Rz3/eOCJDj5Lki3Cx5sWx54IE08EQTpJpHIcmTZRoL8yS/LYmuBySui4jVjBiZlVT73eWO75ZFPpuEz8zUg6OcmEdpGH1dvsEQpfUSPR1Y91B1p0TaeNTAmkZeuwF585CMfiXrymPL+de+Lj6AjSnQb0bzpxptmeSLbf+KMBco/fcb0WK7XP6SjXHlvrDKly/fde19MME32EVmvaONhSnkLuSpkjyICh+R381H+0fKcG5Cntk/dBt8hy5+6o20N+MpPB9Keg3GD19oEhz3/1x3/GtQTYItyKR3ogXTJwSTfkrTVKauDdD/lETJuIW39wXNka9La39bys61GPbLvuZbfu3WJa2aAHWRZ493kLbJ9z/ndOTGu8ex5O8xmm24W6bovTXpv0qxtTdzoQN6DTHd+gPMetplYgbB9wJ5ysiY3Msk265ftcBBX0L4m0rY0mpwY1zmDUuZdXfCJcHbzibYb0D/2xDP0yEQUEFX6wY5oe7bFWJDPa5tFFl4kJlyB9nLqMb3jVFBnW9l4aemulcG2d0Y5lJfThx343ve+N6jb0s/APnbrURgac4k1jB80IjD+DDflCW9la1goX860zMQpNALyohe+KAYsikkBBMp50kknxUwKgaBEPBpAWXjkcikPmc58t9xiyzAUZoeWRaQ1FsXKeLMTwpCO8+AyWI4pfXm112c3n+xcswvPGDx02p133jmISObNSJCtgd3y63jWfU5hlm+QPO1Xp4UHxR45AxpDw/CpD6NmT6slYQOlZW2TIsYVGEFkyuEWe614GSDrhxTzgDthDnS1C6RXnjmTz72JCekgXsgb+VmO9godS+vydj/byndtrg/oQ4wmj4cB3FKoeDmggH1hRx15VHhzeejDOLdJ5X3I8rnHY8hwI5Y//9nPmyMOPyL6I1lk3iNB3dNgm2zqx8gk4shjhsyIo5z6+w033hCDg3iC/cXuC7aDqBeviLj6uMHEdgS2IwcaKzjaWDta9tau8je5lga521KSeSekiVjxEpG9pURtq39lPLpupUibIb72JZvwZNuPBrIQJvVmDdbKqZ90yzEaUh68kdddf13Uny7qg/pf6PHA8jwoG9kgbeo41rLOC5CBCSRvt33uBn5tmW2mLe2j1BbKjywhJNqH3EEcZJXemoBmHQV2n+7mawVB2voXGdIFKxk8kTz4yA3Im05Kw95MhM3YglhDt73EkaeJrP6qr9pKYmKpbUF64vnM7/aJG3d4mW1P+P05s374xn3tJc9fnPCL2NanrxirEERkCWc2ntClnOx1JwJpH0SdV5Bnhn6Ql/6H9Bm/2RXtoD+SGbukviOl0UXIoAU58o6yedpg2223jYkRkCOwx2yKNwvZ8/z3K/8+2Ab6n60HxgJ6x1HBdpuE4g3AtrKl9Ih+eEZ9PA+ur7veukFutYey5T3QJ+kYHWXTTPzdz0AXrc5YTWLrlQW6spDfaDIptJON+f0gWyqGjmAwM3tiuO3LWnqppUN5dH57/xjDJFbLLNvOZme0M7h2VszwG4Qt7VEqg6kZce5noyg6BXLDOO66665BNKS76GKLDhIcSsXDbFDLzjIUGGlkyGDKwEp7LAGx13mQboR+NAwqePuRCp/X8ns3dOMM9XeGLsjfQEH+OjjvN4OhE3aR7TQS1EunZXgRwvRcMeL+Nrjo/LnkOlSarmUYCq6rFwxXvwwQn50qe55Ruurqq2KSxMAwQgyaQRG5c58BtppANyxn0gkDmtUFg5460BFeXoMwuZmQMeJeXaO+lsEZ4G55lNlzBkODnEHUslUaaXm7ry0QAHtHkW3L0TmgImHy5dGRrmesktgLry5Jzk0A7fVjpNWDF9OgcOBBB8YeMhNDy2r6UQygrWykJ3+DvMGYHuhv+pV98gYM11NeBi/wnLp1222QdLWX3HfPcyZAjL5X/ZClPLLe+r9JhHo4cIXAw5PXf3JzwYUXxA8NKId+x3OJuHsOwTBQIbL6NaKBlCKntt34Tib6OYJlS4oVI+2YbQNZDu3C3phE8HTzGoG4ZCgOkomMOdBpYkQ3umn1I++RU+hwKxfy0M5kyebxyPanke3SRcradW3sdVzI+lvf+tZok7jXUXzxBH3RhEP701XtP9JbCLI9+/NPuK4smX5/AGmQa6bVhWvsBHvK/rPR5M4+0w33kVtvZUAk9THtyd7rI+SubbXJoossGoRli823aFZ5/CqDRNCqQvZHRAu0nxDt0IIs6GROsKSbh0rFs5XFhJNHmMysRqauABKuDfRP5aJ/2oUO669Wc9i/kEH7H93R7vvuu2/kaaxSz29/59thm4wX8jfGqLcy8UjTcfotnQwJ19kBHk+TAXJCtLRDN173excZL2UyXLyE+Nn2o0FaZMLLy06xmeRo7+1BBx8UB9us0GpHsuruw5UHOcdKWmtTpBWyb8d+3+k0/bFdiy6zV+lxdd9zxjd5p7339oWnb/D0kK+VHdyBTnFucLipE3tLpvq/fgnGB7aa7cjtQerDnrPjVpfDnrbwLEhL+Y39ysl2SZOOuR7ya/+TB3tj8kcfHNTswriqTCZm7D9dTvubGK3NHgkY2QUzn8AsyQZun5TKoRYKxSNHqSgtZTFoUbg11lxjULEojM5EGQRxpUUREQaHUgyUti+YxQGDlQaRkjCalIfRk4YONRzkZzbqQBxS5BfFxhoMSJZMkd9Mq0vI+qFsEdrZvA6UQUcZKnTjCGSXoXtdXPmmcUtkfnMCdZGeQcf7Uu0T1YZ5z2RDOyBN3r7xUPICz2ZdIq2+f2kQ4/6Adz3zcw1BsBxojyb9MVjlIQIkjPFERAyW9JLHlkFElHmcLMGb1WvXl73sZUH2EWOE0H2E0jI4RDsPgIzooUGNsV5pxZWaFVd4wHCJa/AzyXvXu94V5SRPwUQOGaNDR3/36IivLnT2k5/8ZOTNGBrc7RPzHXnXF3i7lI/BZNylOzgwdORDpuRhUAb1MpAi8kgdYsb4GswRaVDmDMqTbRJv62hF7rp0EVokT//R/xxqcR3yGbpK9trmmRs9M/IwEHj9GMLqGd5pA4KB0fOvePkrYgA1cBk4lU85P/7xj8d1fZvt4B1GUk1EhP59eSB/Ay/C5b4BirxgsIxt27MZBkeEhkfcK9Ig5dBFyjafT/hbP2Rv5JnI+BmUMdPN4Lqyqiu7pY30N4SBTPrLAPLrT2es6C9TBmnKb7ggjnzyM+vShckym68/sf/6nD6E/MFyj1ku6oUc03VkQb9lU0zs9CWTIntd3/bWtwVhpuugXyP4yAjSmMjyKL+gP0g3V0tii8NA/cjYREH+9lQqi2fJ3ydvrb5qgmZyROfe+MY3Rlz6Yy8uUiQd8aVjH7dJHxk5CKzPmjhrR15fZUgPNe8om6SMnCX98ks553dlhozXH38oaJdMw/P5fTSIlwHklSGR99RFX2LD7Otlr0448YSQpxUb900Usi+BfqFOoO62BGR6M6fPWkGiB9qAfKWdk5WE+Gzhts/bNpxa6bT6wfd/EN5hExZbgrQb/aM77D2vuvKYnEibzXj7298eesRGKY/xwH1tTSeB/OhGIsurbCblOAp9kK97XXmxyWyLMcDkv3u/K9PC8FggSC8SyBtlhkyZGA4z+hwIGCDGCMyWA237UwhKf8M/bwgjQfkZUJ2EQjEg0vZpucCga6BCeiOJVomkIS8DHDIifippF+IqD6KiU1FyA68N5mMNiBDjrg7SigH337MahPuWZRAXs3cB2bBMM1TIOBl4JjLkNc8bpHX8RHam7Fj59+zAM8orGDwYcYOYuqYRZrx5N6/8+wOHf8i6G8YC6Sk/j6Y2s2R++x23Pzi0upDB/QwIHTxm2cfEBMrgZLDRrggRwwvuqYPZNyLPWDkUaYmRjvzlor/Eq9jMyOmP5xEuwQFJqw10KglNtHULusmzjnwibU4Xe69vgoz8lDOvEfk5WMXTzBDaLy2Ic+555zb33nNvLLPxjGlb5A7Z5YVAVhlw7eJ6Lt9aSkQ69YHsB/1ATPVH/UX6yKLBYo899ghZGBQMIvoaZP0YevH9VDPPnKV/A3cOxNpM2X2SG+Jrb11X36TN8Ptlvudu+tzwTiM6yI1ntMHee+8d+8fTy7HsY5aNvcG8t8gSz5l2M8j41DaIFJmndxt51jb9uq6ceS0nxmxJ2h86qj5kiWSq+8233Bzvz5QeOfSnCXSVLtI/MhGkaQAEaSqn++xg3tcGqTtdZB7isY8pf/KT1uz0p7FC/ZQPaROUM/pep68NFdRd3ZSHfLvlUg/lplcmOpZ4fUdWLzj/goiz0sorBQnR97Qb2fNyIbJkdNZvz4rJBz3QT6TnYBRCos1NGHn/6IL8yEpdIMuCVLrvurTUC8S/7NLLQm/pO90k45SvfuKtOYi1PmJbjD5qHGMH9XE2nE4qq2fYc8vsyoEo2VPPBsjffTJif/zNHukv8pYvZN7dkBjy+wOXhoV6C3Rduypr1272B+1KB3z6GykcDSbSPK7ajw3Sr/VjJFJf1d/YzMHD0zNnnRcxceDt/sxnPjN44FMbT15o1rgifx5bz7MJ0u/CdSuMm2y6yeC7na1kcYhJi3PMm4OMBblSqW9rS9thlNWkR7soZ3rskdJcMVMP9+KHdVqdEbcfSDLuIH02Vrn7IV86Q9/wloCunqEwKh58OmU+BRJgUKJIFNLgBjkA6YhppPwdGOjIDAejYgZJWZxqRVYYnXvvuzcMheeRQgMM48ezlgOJPHQSBkYZ0ns1FMRVRor7lre8Jb6nYRks1wiQpw6oTL4bnEaCgcKM1IDe7ciZZz/6y+BvIcvpOyNiWdjJeRvyRyvDWJGdXL18t3y12667BcE2MMiboTIAdQ+BDFeX4YBkSMeuHWknaRgKWe8M4hpMeNwZwVY6UX9E0YzexMhs3hYa+2YZ6XzLgvL6VH5Euzv5StA5RtUz9IkslBdSzj7pGKNrAH/qU54aBBzk6XVSBmveD6+ee+ITnhjpKD8DbUAC/YHX4+arbw6Db1DkLUEYQFx1MoAjeUlwGXD5KOtgHfqQBpe3gdfMoCwN8RFsJIt3O/OiU2SL8FtKNrFTTx5pE0NB/uJ4ll7r4+KQq7q0LdRMmvKALnj/pb399EieCDxSO7jNoB0Q8w0cZEOWCARZJBmWtqDPIekG1yTtnhkK4tMvSJJBXsgH76/77dSumdybHHnTdfXSLgYz/VR7JeTj3oc//OHQ1/TUue6TLpGHSYvBnSzzOemRwf/+7/8GkeqW2bMC0qt8oNy80OIpl/vjCQP/YYcdFv1ZPdRTHt36DgVxtZ1+R4e65cp6KK+6IxAmfXSXriaQbSTBagddceLfZJDHELRV6MRAX3FoUXvps2SY+bov5GGxLpSTTppoyEs8/RexMZmzVYaeZTrKZzuGFQgTTfVbdbVVH7QKmUE69MWnSaQxz1aJJz9l1rmT+6feH+MUPdPntLfnXPMMvaLH0NWDsYC8xgIk1GRV2bLco4Hus6VWXzgPRoK6cE6pC3my4WSKCMsb2Oe0Vfr3T3/y0yCl//M//xP9xIoWHeBxBTLNyTSQUdpa0E7qoW/QLzaSLaHLystBYUVPOtl36ZFVKjbDap1JG/3p73/S4dygX8hq6JXVrQ5ShtEn23vKR2bamY3uBz1WTn16JC5SGB7/3rPnMXRYgUIIDLngGiU2W2Q8KBYDZcBEAigLL1AOajkY+DvhujQ9y/tmpmVJdP0nr9+sudaa0RkpIw+ewcF3Hlez6iRp2SEE5WHwUlHzs4ssi6UmndPgLfg+WtBJYibbKraOmWUYDvJh2BlWS9QZeNKGCt04GQxS3e/egMF7qKPm4N7tzHOKMBYdeZFjdOw77xq8jtCZkPDGuDZUvq6NFNKgSUN70Qf1cL0/kK9yiaM8/s6ZOnhOmjyqdI8X1AwczOJNlJDYbC/QjgZag5+B1XgiXWkxkumhSbiuHcVRZ4MpXWXU6KNB0v4y/cFeUwcqeE8YY++wZPid8m9rH29dEIfhTM+ICRhdVA9puOZ5e+QQB5NIW03IC5DjJCz9yDQMeiaS9BphNQlQVgOViQB50sskvdKymmBgAh4SfQ8BRRgMdiBtciST8GC25ED95OuVYuwCGZEVmfG6GJjEJ1N1ELcdjuMTcRHXd8F99oM8Uh9dlyd5Iczqn/GHCl37kqQ39Rfie/ufuMqYslR2z2a+3ZD3fRdffVxTds+4nrKRpzjSTh32KU5C3uJ71j1xQRxbVaStb8TfA/XK7T7dIO1E/70MXWgD9stz8nffd/UZKiibOD61jc9+5H118F3dc2KjD9q6YTKgL2rXDZ6+QftQ+19bT+XheTVBXHKpltS2/5Qnt+vQfSt7/UQ7y+2zi4zjk/zUUTjp5JNC93lyk/R6FnHigTTJMlk2kZwyqdXvduKhbUzwcoKcXl/5mhSrJ52gS6CuPI/0VH9FxMhQW4I8u+XrD0PFS7RX/u1aP+SlbdU3/1bW4YL6Z9B29Lb/uiA9eZOfSTSQk60otg8oN3JHVmwZObE1ZGNV0hYlE2yrACbe8uEIMpGUPshXeckcofQJyGvKtyujnBSzL+x+QnqZlk+gc3SoO15mPekCEq280s/n81nXMsCiCy0aP+5DXlnOeI5CD4AM6Iv6s5EQ+pyhzSPz8Rn3B67l3494tEJ9WDF92vRe27jxvVW6+Oyinfn1dt55516rUL3nP//5vbPOOiuuey5D2yF67cyX5vS++MUvxv12wIxwz9339FpS2GsHs1474PWOO+64XkssBvP685//3HvWs54V6X/wgx/s3XLLLXEdWsXqtbPEyLMlPr2W0PQ+8pGP9O78153/VlZ/z5g+o9cqa++yyy7rtUaut+GGG0aQbzdstNFGkafPZzzjGRHEa2fwvXe/+929Sy65ZDDN+QGtEem1k4Eo3yGHHNJrJyKz6tu2WwZ/jxRa4xay8envU045pdfO4qPN2k7e22effR4k+3xuTqA82rglZr12hh+fwwX3hdawxmc7CPXaAW0w/yzDi1/84ijrl770pUj7Qx/8UG+nnXaKe3OCbvoRWl0ln8svv7zXksNea0R7e+65Z68l2RFfuQ466KC43hr23rnnntu7f+os/SRTOOCAA3otQehtsMEGveOPPz6u0+Fzzjmn15LkaD8yp290eccdd4x78hWgnfz01llnnd66667bO/zww+NalhFaQt7ba6+9eq2xDx0/44wz4rrnf/azn/XaQaLXkt3QmUQ7OPXaQam3+eab91qCEmX60Y9+1GsH9147UEUfh3YS1DvwwAPjektUeueff/5guWZMmxF93d/q3Br8SLcdBKNdXvKSl/TOO/e8iJvolhu6+poh4/SH4e7J3z1oCX/k/YY3vCH0B9RNPPjhD38Yctp00017J5xwwqDuD5V/O8nptZOW3vXXXR9yELS9Nme72MALLrig104QBnWV/vo7y9QNdFhZpPPZz342ysmGpW53847Q6l9LAsK2saHtwN9rSeGD2nE0SLudUD2ob+X3kYIypk2BB5WrL0A7Oe+1hCTkevrpp/eOPfbY3pZbbtlrJ1ERJ+WRz3TlktcyJPqvd+8l2glnr52sRd/4/ve/H/KVJ9tNvieddNJgX6Sj+++/f1xvJ4DRduK7rhza9v3vf3/0Z2VvJ6CD5ROPDdBHjRdbbbVVfG8JfNSdjMHnF77whZBFS7gH26q/HoJ84Sc/+UnUoZ2A9/bdd9+4psxd2fTDNfe1r7E226y/HYcKdIBua5NMf6h8lJ2NYNve+MY39u6+++64fu2118a4/IQnPKG3yy67xHgNV/7tyt4OO+wQOtBO9ONaOzEIWdLzdmIe11ryGzYrbepb3vKWsLGg3oJ6sSdw4YUXxris3TbeeOOwaaD8XYxUl7HAM/hCchi46qqrgl+wv9tvv33v/D+eH/2yGweXaUl22Fi2AbSNQB+MT/SknRiFzhX+HSO7EucBeMNyBtI2XBwWsq/z6quujmvpvTKLMms304Xu7MZsiwcL2jrFZ2dyFDPr8I4stHAE+bRKF14CewHNIi3p856ZRcWLsNt0WnWOeJYZzMjl41SlZWPXB/NqETOptiyutQYmtkJYrjRDt1Rtj2WE9rslHF42n7wBgniWBc12ebeh7YyRz0SAmac24rVxSpbXwqclI95SwYwYunKdHXhO2wGvCc+5Nktv+1BBHDNyXlgzfN6hoWbEPIrK1xrnWHa78E8XxhYQ0E4PGW2Wyt8OErHPkLfDPlvLtjy/vB3tQBO6y1usLPFqovYZMrV95+RTTo6/neC2NNoa9PAa0F/pWs7lbfW+VvtpedbbQTXaJfWMd4PXLffj9YOX11KjfujdyzwvwOtg+4dVFaeUeXmlYQVF2WyH0L9cVyb1gO6yLNnzvumrtl3oR+kVsbWBrRDXNX3LWxq02dOe+rTw7Pz9qr/H+1ftZZZv5jEnGEoHUi/zXjsQxicd4+GnBxnH9ywD74z7Q3ky20Et4mhPP/e74korDq76ZFvIj0zoq3uu01l193f+jHcX6R31fHquyI1MW0vVVqa9MGfdbFhI3/51uqGsyqh8/h4uKB8PYq6ujMXe2UdJBlZFjBX2cdo+YHwgK/Ueqv0eCpSLPreENOqofcjY6g/d07dcY8f1VfHoMKgbvRZfICfP2aZkZYFXM5fQ6Y+y6/PazTa5/b6wX4xT7KWl+/QCe1ae/tbXBRiLDOWRMhpNVnG/1RXjKF3PoHyjBTqgnUdrE+OeFVeeUftf2QV9yBjtuv5h9YhdZAdb8h+H09ji3MLSkuxYISMPfS77IjmRv/6abQjKoz1wC4E+vfe97w27y3trfDYmg7RwAJ/67EPFULJQPraarMjO3uWsQ4J9ZVeyf4G0BHo1kowLs/Cwk95UII1rcLQZ3WnVT33qU6GEV19zdZDSHMiRk35FAHt/DIiMCaOj8XV+SzdecM1IIrF333P3oGIgF94WwIh5TRLDJQ3P6HC5PCp/S7HSQH7E0Vm6CqZMAoW1/IbIei7DP6//Z/PP69rQfuqcGRyy68Y58ogjg9RE/hNIibPNLGeTtX1a5MjAvPtd724ev8rjo65DtW0X3fsp8+41aQgGgCA97S2D/HD/3Pc8XRE8S+79MNBadrQtAPG1xKidQJuPBxB2RpsxZ9AYZ4O6Qy0IqMGT3skvCZ2/GUsnwH/x81/EYQt9iBEHg6fTwyaOBmF1ZDAZ1TxgN33aLHIMXmNkAEaSTdyAfDI/5UN8DbaWH32CH0DQnxhtB4hMCL7whS/EdgxLz8puINPuDpPRA+1v+dCrB8HglPudkX0h8/Vp0NFPHPrx+irtZI/hZs/dLO6ZMHtJ/yc/9cnYR0kHxrP/pG74JAflAzZJXcJeTJm1TQURMmCrk/tJ6pTpQfraTpSznNpGPbv6l+0I2iqRbRI2rpNewnWgH9qITUIW6IGfYs6f/u4H20efPD/Yh8YI5U75QJKLvD5kaGWWhxWzHkPVJ+EenWGL6YFtWfTY20zGG/JKOSIbtu7QYY4PZJ3O2WvtnjEL0fJLfcgsHdb2oA0Rsayz/uAVZ2SL4Jk8WpbPttZvTOos+RsDl1t2udi7byKf2wTSDtAtstBm+iyZu9eFZfxsk+jvbbuqV1efRgO9TllATNZaezVckEeE1rb4u9u+CffzmjFbnzEpNpa7rp62PrFD5MkGegML2+LHc0y03fcOapMNrxoL27nyShFfGnTDdsjcEtPtt+ojz1tuviXGXtsj5O/QGvKtfGRqwv6xj32scXg45DiESemv25zAW4vYa/AmIBMLYCMyT2Vhf3EVtroLZRiPckx0POykl5HV+QQNRhEpM7LrgIoBEgGwYZw3liHpb1h/OyRAUc2GdQCw1xHM2nifGBEnYx2ocYjGgQizUB2pexCEITarZVQoPnKqw5lRGpQhFSzLnGWSBqPDKCIXOSs28Kyw4qzQnQk/boUHZs7ueb9wkmqdHrp5LYggQ+2be9z83CKPkxPX++23X+yxjo49G+iXSX5mOgYQgbEeKWR87UbeqQNdaF8GRntpF6TO3mPXM/SXZzTIpxsgJmXtLB54Gby2yICx3Qu2Cy+HE+mMHeJipcBEjCfC4bnvfe978Vokr33jXUvyRO4GStcMCF6hxrvrcJ4T8AZLMlAvZUfOHA5TV3pvgFA+dUSa5KftDLb0G7TvP2/45+AKhTwQPn1WGggqQmCAsg9P0K89ryyPfdwDb4lwjXz1Sx4ehAJ4gpzc51m2JxjBNRDpj/q9eN7awPvL8/msjZ4V9c728Nkvc2FOoQ4GRHaFHkPoU/uPzN3z2iF7/bzJRX3ISZ6pZxkQorwuiCeQOSh7lwznc2kj5Nu9nvfymv3TyJU2yVdjZVogTvwgy803hcxNtLQlIuJvA3EeqlGWbuiHdLPvpR0bKVitGKr8owE5kb5Xz/GGjoSh0h3u7wzqph2NRdoC0TCu6B8mwDyHrjtvIo6VE6TJvl5nAIBeIsjkZ1JKZ01gjTv6OaLsbSPGN20tP3L2abwgSxNYb3DZdLNN47uJa0ywBtoPmUOayZLN0N/6Qb76rBUak1DlkI8yq5NnxjK5yXaSt1WXkYL2jzZuv0e/6Mg6IR3XjQv0EkGNldR23KWjykju2sK47hVm9JJH3+TD2zqQQPbQRMNE2sTgCWvP8vy21CIIvzKwG9qGvUOipUkOXkXGhjzjmc+I9sQjTKqM9dqaDdbH5bvnnnuGnKSZ+p8hsuv7eyREvPYf25vx/eiOtmAr2UUrINBqZMhS3nmmhMOFrRwqL9dyTCr8Ox72H6eg+EkyNbLBQcMbIA3sljV23XXXMCiMw1ANKQ3PUX6DEQLp4IDOQ1l0JkZSR3TowelYxsqhtb0/tHfztKc/bSClWQpjVpWEWWfj3ZO+A17IQCCitRH9N2AoYajO3UX//f769P/dH3+09OcGDH48dGbFPN08gQxvF8OVKwdrbcorg5yZfBis3vOe9wy+TJ3BEa8fQ6UrroGBrPL+3JSTcvHqGLAMME7L90++uvnNSd6ekY/BCWGSPv183S6va9Z70noRR/8wyBkMtIdBDnH1Lt9PfPwTzS6v3yXSyHIZEBht8kYUvWVBf/K8vsJL5SS4vqENDAiep+PIrq04Jm/igOf0H9fIgTdCOT2jPQzuBiNLzV7ozjDzMifZdqIaGdXfz/z1mfE88i2/bEvPI9TqxqMurdVXWz30SPomnyYA0qKHSRhdR+ydln7Na18TpIThn5O2GAnSm3rf1Gafj+8T/YJNQHqToJKjARuhsASrrCZI6pR9YbQykYUgTfImQ4OwPtNdth0uHde7cbzJ4L6p98X2E31YeZd59DJxL/61nyYNnAz6JzuJsCEDvJu8jto8J/xdDFeGuQl5siVsEJJiMpjIeo+GsZRbHGOINI0rPIrawSqPyUy2kX5Brt6igyCRFdBBE0h6i3DSZ7LUn962x9ua7Z6/XXgkEwgtcozAIcRWbfR5/VIf5iFG2LzBQhvJHzGjU/qLMS3bDbKOPk0yHWY2cWVDTJ49x1suHfXSlzL+vADZKUN60W1dsM2N55qNVw6ytbrjGrnTXfJEWL3xhF1DZvULqzvGE9tFln9sOyFvq5GkEhmWHoeXCQdHGNl7hzP5es5khGyUSX76sbjssAk2WYeNHILEj/Z3P/I+pwZoO21knHE4mH0N29ZxyiD9fmSHM8FvAKhzF8pLz0wglN9ke5CvFB5AqxAPO3KzdqsAsbH87rvujo3oQqv0g4cDEm1nGXITeWsYenvssUevNYK9I444YvB+OyDHRm/pOIR08803xwb3Vknimnvyjs82eKYlH72LL7641xLu2BjeGqOBXB7Y2J/pz07ox1BxRgoPBxwyyINsLYkK2aWsujLrBtfIXWiNee/Tn/50HLigcg5THXnkkdEWQz3bDf1wcMehoHYA6N10401xbaTnhro3lpDlgtYo93bbbbc4TNROguJa1jtD99k5QvtYpkX36D399Dcdze/S9/edd94Z/aM1yvG3QNatUY5PhyLaSUVvm2226Z144om9lsRGNtJxCE59WoPYa8ljHDaRp/SzHCeffHIcFHEwpCXIg3lPmz5tsK/211kZpDPt/mnxNziM1w4wvZZwxd/tIBMHUxxqayeTcXAKpJ/h3nvv7bUDWK8dwKN8f73irxFHvR7UZ9vg79Qz5ZK37+51yzdegXwPPfTQKNvnP//5OKyTsndfe7QEpPe6170uDt6cffbZUUb3BsvZxu+mOVxoyXW0VTth6LWDXfQXyOe76D6n7mQhZDw63JLw6HsOtl199dX/JiN/p/4I0Zbtp+sZuvGF8UB/mkOFzBtactBrSUHvqKOOir/dS/Q/N1wYC6RLFx1kdrhq9913H+xLqXfaQl8ltyxjytB3n+LSi5a8Dd4TV8h47aStt99++8VB0GOPPXbQxorfTq7igJLDnQ5XtcT5QX1A/ocffnivnUDGIVOH6xJZ19QH+UlT26beSkO8DOOFbpr9IeF71qNbjpRLltEntGS39+Y3vzkOsP7617+Oe+ryqle9KmTX1QkBMk12bu+9945DyV/96ldjXBJH22ijeKZj17Rz2Ne+vtQt53BhLMjyaXsHEh1ubwl7r52IxHV1xo3U0TVt72Cj8Q+6eflkHxyebCc9vXbyHweBC/+O+eJniNsGC1e/mRlYnjQzM5Mxo81Zkc+2zPG9i7zOo8vLm5vfeaHiNTFTZi3dmsHxDphBuRb5ttd9l3fGkR5PmPf/mYHy7JmBtkoa9zPPOcGcPpd4qM/PCciAd5xctYm24XloO2N45lJm3bLlNXvSeMr94p1ZNe+cdzZ6zczg8k0bT1v01017CHnddzN172KUrnfY8sAPhf60xgrPWcrinWyNaSxd2grD42Z5K/ebddGf1xzlPfAIz5slX3oqnaFk4Lv79Jsup6x9Cu2gFstgPDs8uw6/6BetYQ9d54kSj9eJJ5LHdbAdBzwjPFkCjzLPk+VBXgMrMul9SGSZsgzuZ3l5k+3Vlw/vg313vNPa33txbefJ5/NTGpYw1c2eez/swGumDu5lPPDJRkS+7fcMee+hQD5CgheGt8/ePitJtgzw4LaDU+RPV/xgAm+MuLvvNuvHSmyzSIgnjITMV714r3noec3T65h1HQ7utcNhfOdV9zd90XfbQTz6EKzwuBXC25VpZbn8nfnQF59pK7tlH6kM4wHp64PsD08YfVd2h2B59OkQvc1yKN9YMZayy5vueiWkPmXbjTMIygFkAvS0O0519TEhjvGJPON6W1Rjnu/i8nY668CD6bCpcctqo/bTh3kX2V9lMhal5zLT1jfZLV4+HmNL9No22599ybZL3crnu20KeX1uQh7KkcHfGRK+57iQQR3ZLfZ4h+13iIOfVid4SW1/siJMJzzXbQNjN/1n06yAsWtkycPtesog7N/Aq8z0t+hz/hiQX7e8I2G0+9JQRnaCfrErts1YubDFg75JQ7nP+d05sc/Y68z8LLV4vRnt820fz/5BHj7ZW1vQ2Mvy9A6N+YL0UqZu6A6aPjP0/91/HQyslm4sd9rjwyBY8ol0B+IzPIKOn50/DZh4DKylDku8CK/lBPc9A908Zzf0Y6R70L0/XJy5DR3TdhNLTYwOwmtSQHa2nDAyacy75bTkZw+1fZZIpGU3hskPgBjMIeN22ydD18Do/EiF9C684MJmiy23GNzjDf3PJvqvjxYYEcuQymwAcTjLdgP7RRGY3M8lbqbfRf/fs4MsQ8L37BPdkPEGB9CBuBnEIS/lttzlGtJDh+k2w8jIIr+77rprELckVGHf2/6nbW0r2GDDDeJwqH13BgiTjG4/yJDwXTrKAHTFIGMrgEkSeXqvr4mPSU/2u25aGexrY7QRZaRAv/aMuilDyqOL7vMPFcqW/Z4uG1htcbG8TI+VTT7ui2ffsWV33/3crYN+5ApZ1m75RgoZd7g27kf3npDPG6zzb4O75Vs6buuYdx9r++4Se/d5IdFNM8N4oZtmNwAddugLMTCo2x9uz2z+Shdd6JZzrMj0h4N0TRy1p75gGd3ELbcTCNqm2z7Qn66/+8vnWv8Yp88Ys3LPPLvmgN+dd905eEgLIUb2/ZBHpDEQPKtcJoomWBw+7LW29iMuUd4B8pvl7j6fZej+PR7optkfuveVqf96XuveE9gxoBcmmw6Ck43xQBvl/mjPQT6Xf9MZ20tM/tg0aXiPM54gHuQz3We76eX3LvqfGQ3iKIPzLWyxLRom0SYr2pPO0UE25fP7fT72eO/ziX3i7JH6ha1uwS7aemNcNMY658Gu24Zoy8ZwTqFHMia1wpslvQkG+4DM0u2/s0cmZmsD6FdKIqD8jAGFZlwQHvuxeCbTkzOUso83+ptjLB1obkPnZGScLiWL+6fdHxOC1VZdrVl7nbUHiWcXCCrvsL1QZGmGbZ+a11YZaGcHZCI9+9bM0eRn5msQSrI2XnLKcvNMMyj2lCozwoVANC1HywMd0J/vw9le5JCBwaTHSRZ4ixBG3l51XGXlVcLQOiSTB760LRiQDZLx4y8zZ5FnHjb74BBfkxzxhwOjTA76i0kSgmUwZ7gdvuAtl6c40hlOZnld3jwZDL5DWdlX+58bqUxzAukJ8qILJtFkiIwbfF3P8vu035KO2ndo8p3lcX+4Os5LZHn0Z+WkIxwCyHveGw3zuh4OMnlDhz5J9zggvMWHp7Mr37GWPzFaPeiYvO1rN3lhs7T33ILymyA6aCZwCtAhtg4Z1qfYIl5/HuOE50zEeYWVj4cQUbLvlR7S15x4ddEvr/lBP4dDt6zKyabQXxNp97SNNjJ5y7ij1Yes8QP2UH8eihyOlkZ/uWYH2tNEmvOIriGoJqXdNI2xbAqnwbbP2zZ+RhsG69j+u+feWXE4M9gkbb34oxaPX5UV8iebCw9gQpJeVRK6JLVbzaEUND0GOUvMODmrmpsGbzygnDxpOpC6KLPZq47gmg7kGrLhujryKAiui8fADiWblF3/vfB6Dkwm8p5PhoRHz6/lmIEy3n4C1kEE5NEsNtMcCeKoCw8zbwePj8M4DotI2zLQ3ID8GBLytKycBM3f0NWFfpn0/z0vQV6pr2QMWRcHCbULwmqQWHutWdsH0uNEzj6jRQe82UBPsh/F6wXb6ok3Uj3dE7frzQJpRh5t+pbm+tPo/1uZ1Ich7783FLLM44Uo64BMfU85KBf4uyunLtQ/6+jeWMo/t6Gsyk5/+8szVtnN63rQWeTGxMvEOberaRN1IVt/z27bj1YP6XXj9P89XlAPkLagviarJqrszaKLLBq/EJrbe/qhXBHaPqVv9uvaWCeIc6Nu44XBsg5+PHhsn12kzFLm3b+7mJsy0e7aJj3XaWMSWaYca1JPBtHKIso8YGOzHvmZ37tpFmZhwnp6IRt+dkC5HkqHejignrwBZr+WbCxxIGpOgPLOIYzIIgLEW2Bp1jNOgzplzvNjpmx5hTeuXwbippq03egBwtLVnPbP7Mhmr/vvv3/sbdRpLdnwUPj0XJIGGKl9eCR52Jw4NtsVxOd5/dCHPjS4FDS7bTwaumlmvSHl4F5/nuNdhjlFllH7ZdmHK1saWiHrBZlGIu8H4fW/h4BuXpFmZtOqWzftbhnEzbLNa2Q5umUYyUZkmWF+KH8/khzNL+WZHfTLNtulq+tjxezUv9uOcwNRj/ZfW6NB3erPSxz3kgR10a275yK9gedH0tUFCVHHgWqSU9Yz6z6UzIZCxs9P6H9uLOk8VHTLnvmNlG83/iAG/kR8857Pbnrzoi4LGiY06X1EoG09S9AOdtmc7+CPV7fYf+qgh+Uur13jKfF6GvtqvRbn0EMPjSUwpNIBCeTYa6b8hjkPQ3dJbCgV6b/mb4GXwtYAXll5M9LSshzJMKX3Lp8fqVMi0DzRXQ+r5ToHPWyVQNDnBYaqfz/mZ+OSbQMTYQAsPLIwlv43u5gf+2vWs1vfocr5SCUyY9GD0WQzHmk8XDBudpHlfKTqw5xivjjIVngIaPWd0lvORgL94gxPq2VsnlJE0cEby/Q8vvaKOZiE7HrXn2fsW3NdPEuIw3kURoL48j7kkEPiFDLCmwRLesoi2GYh5Pe83h+QXWkgviAtBsvypnLaa517UeeHTj8/Gx5ly1AoFBYcojBUOasfD4/RZDMW2c3P8lW2DPl3YfZQbp8FHEhfbhewTcH+N2TRyWN7dO2j9ZodWx5sgUCIEUgHzBwIsXfMM/bdOu2bL8ueHUgPifaLQU6a5j5h5RIQV4HH1t/uCZDf+wOinB5hn5kGjzHiay+Ue4VCoVAoFApjQW1vWMCBECbp9ZYEv0vulTXe5edXsBBbWw5sB3D63Alo7zV0att2B95e+3r9shQiHKS3nTyO5untqo3ZpjQOP/zwyIsHFjKO+0lg4aEssfs5YL+4g6RLVzlrtlsoFCYCxjIcl70rFOYcRXonAJwU9xoxB9OQWFsVvNLLT7x6DYp3Ae6xxx6xr9deXq/9QUzt7f3Upz4VcRBeP7dIHRDU2SG9kKQ2CG17yz7jJLdJegXf55T0Sj+fz/wfCoEuFAqF+Qn9dnUoFOktFOYcxRgWcDCSgncX2tJgC4H3C3sbg3ezen+ftzrYcsBL6u0NXlUFDrjZ9pDxvd1BvNndzwueSQLqPbYOr7mW1+05zvcI5vXZDdLwmVskyvgXCoVCoVAYK4r0LuAIL2pvZry83xYDXl4klvcWHC7z4wCIol+s8cs9nrE/1s8CI6F+YtZrwRxCsy94TpH7dofzVozmxQgCP3PWXuCM67CbHxqRNk+xe8qfoVAoFAqFQmEsKNI7AeDgGgLrV6/8+IODa/lzjK775Rmk0c8vIr3gV64QYl5fZNm2B3H6fxVmOPQTT88g0NLzgnVvhLBlwk/eKp/7/SQ1SO4QQTweanuPvUbt4IMPjl+vyXsZus8UCoXCgo6ufRsuFAqFOUeR3gkA3lXBL5RtscUW8VvitgHYriD42+/V+0WfNJreguDHHWyBsO3AT8O+4x3vCOI6p0jyyRvrQBsifcEFFwSZHgtie0RbPCTZ/uNTf3lqHI777W9/W+S2UCgUCoXCQ0IdZFvAofkQXiRR4OEVeFyRRz8/e+ONNwbh9fOzSG1uH7DtwavG/DAFD3GmN7vehEEVaj9steDp5anlefZ+4LXXXnvMB854p5X77rvuDg/0t779rSDwft0tfjZ3GG9HeUAKhUKhUCiMhCK9ExCIIwxHNJFe98aTKEaerSbdcsstzaWXXRpk26+n8TzfdtttsTfXQbT+MikDFVQmXuclllgironnFWx+ztjWhuOOO27wVWiJIrqFQqFQKBTGiiK9hXFBqtE111zTHHbYYc0RRxwR7wjec889w0trXzGPLU9zxs03MvBU++GM1772tfEzyIgveK8w0stzfMwxx8SvzHWJbpHeQqFQKBQKY0Xt6S2MG5BQB+EQ25tuuim2U7gmdL28eS3huoAMd73U3Tg1NysUCoVCofBQUJ7ewrjCu4IPOOCA5swzz2wOOuig2M/rZ469R5hnN4lvF1TQ9gYH6/JVa0iy9wh/8YtfDE8wT29tbygUCoVCoTCnKNJbGBdQIyTUr8Ltu+++cTDOmxe8Mu2HP/xhfLqP+IrbDcDDu8022zTbbrttkFvxck8v0nvssccOvlkinynSWygUCoVCYayo7Q2FcUEQ0JaLXvm3K5urr746fiTjvPPOix+7WHHFFZs11lijWXXVVZvHP/7x8cmrK6y++uoR3LeXN/f98vQmqfU9CW+hUCgUCoXCnKA8vYVxhR+k+OhHP9q88IUvbN7ylrc0W221VRBZ2xe6GMpLi9wmwb344oubb3zjG3Egbvnll2/e9773NVtvvXWQ49z/W57eQqFQKBQKY0WR3sK4gSr5Jbazzz47PLqbbLLJg34QYywIMtv+u+KvVzQXXXRR/LiG9/OusMIKQXhXXnnlwfSK9BYKhUKhUBgrivQWxg1Uya+v2YOLkOaPSXQxJqLaauTU+6eGd5jnF+z55eHNbQ9FeAuFQqFQKMwOivQWxhW9mQMH1Np/Q5HT2SGrkc6Aeg711odCoVAoFAqFsaJIb2GuYDi1mlMPbf7i26TJ5eUtFAqFQqEw+yjSWygUCoVCoVCY8Kg140KhUCgUCoXChEeR3kKhUCgUCoXChEeR3kKhUCgUCoXChEeR3kKhUCgUCoXChEeR3kKhUCgUCoXChEeR3kKhUCgUCoXChEeR3kKhUCgUCoXChEeR3kKhUCgUCoXChEeR3kKhUCgUCoXChEeR3kKhUCgUCoXChEeR3kKhUCgUCoXChEeR3kKhUCgUCoXChEeR3kKhUCgUCoXChEeR3kKhUCgUCoXChEeR3kKhUCgUCoXChEeR3kKhUCgUCoXChEeR3kKhMKHR6/UiFAqFQuGRjUntYFCjQaFQWKAxc+bMILaTJ0+OT3/77nP69OnNwgst3Eye8u9z/EmTJg18m7+hTkKW12fW03d1fSShN7PXTJ8xPWQwZcqUCIVCoTAaivQWCoUFHshfEt0uAZw5oyW9LTmaMnnKAkt6k9yC8mYA9xaEOsxNpHzI4ZFG/guFwuyhSG+hUFjggfSkKfvXv/7V3HDDDfEpIEPPfOYzm6WXXvrfCOKCQhhnzJgRZVXHW2+9tbnqqquaW265pXnUox7VrL766s2KK67YLLLIIgOxJz7I4MYbb2zuu+++5u677w5v/pOf/ORmueWWi/sLSrsWCoV5iyK9hUJhgQczhuggP3/5y1+aH/7wh80vfvGLIEebbrpp8/GPf7xZddVVwxPYNXkLCjlKUn/xxRc3xx9/fNQR2UPun/CEJ0T9VltttUcM2Tv3vHObY489tjnj9DOam266qXn2s5/dfPKTn2xWWWWVaOPa7lAoFIZCrQUVCoUJAaQQ2XnKU57SPPe5zw3v6LXXXts8/elPb5Zacqlm8qRZ5g4xzLAgQL0Qub///e/NgQce2Jx++unNxhtv3LzxjW8Mz+Y//vGPZurUqQ8i8xMd6627XrPt87ZtllhiieaKK64IL/caa6wRcnqkEP9CoTD7KNJbKBQWeCB8AsKD+OZS/7LLLts861nPapZYcomW7calBQ4tPW/uvffe5le/+lVzxhlnRJ222GKLZuuttm7evsfbmw996EPNyiuv/IjZzzpt2rQgu4svvnj8zYP/nOc8J77nBKFQKBSGQlmHQqGwwKPr4bPX9U9/+lNz1113NU984hObxz3ucc3CCy8c9x4OJCHPMNtoq/W3v/6tOemkk5plllmmef7zn9+stdZazdKPXrrZeputmy233LJZcsklByI/AjAwefnNr3/T/OEPf2ie9KQnxRaWQqFQGA1TPtpi4HuhUBgHIDYImH2Ylp1vv/325qKLLmouvfTSZvnll28WXXTR5h/X/KP53e9+F/sRLVEvtNBC8Zyl6rPOOiv2az760Y8OspbpjReSfI0pzZajzezNjANDyqoet912W7PkErNIljqde+65zZ133hkeSPWwr9bf6mDp2TO2GjzmMY+JZ9y//vrro66uL7bYYlEW3sx//vOfzR//+Mfm5ptvjvTU/8ILL2zOOeeckOdjH/vYSIO378orr2zOPvvs5v777w9Z8fBKR572e7r/6le/Oryil19+eZTTPfk51EYG0uz3DMpbftL2HaF0YEz8e+65J+p23XXXxTYD5VMvh6qkLz6v62hI2dONX//6182pp54aZSQ/9VYmeZH51Vdf3fz2rN82Rx99dJRjww03jDjKzuPZv38125dsBfHI9pJLLol8yEDbSNt1XvHUM1A2bcyz/Mtf/jKed007ePbxj398lM+zJhj2Gau/stFth+yQUXUjO2l7Xv2kKW3tqNz0SnzbUC697NLmtltvCw/ujTfc2Jz9u7MHdQfZFz9fPwcHH3Jw9KHNN9+8+a//+q/II9uUd9zf+p98f/Ob3zTnn39+5Ke9pNVte3ukTznllObPf/5zyEYbK5MJk3QKhcLEQB1kKxTmAgycBmSHjv76178GAXjGM54RB46+/vWvN7885ZfNDTfeECR4l112aV71qlc1P/nJT5rDDjssCOG6667bvP71r48BHaHTTYcafBEIbyhw3wA+UneOe+1/M2bOiO+IH8LdT5q6cBDsV6f9qjn6mKODCCAKL3/5y5t11lkn6sf7KI4l5n322adZf/31gwx9+9vfDuKI2K6wwgqx//TFL35xkBbk66CDDop67rjjjvFmBYTqhBNOCIKH0L7lLW+Je5/97Geb0047LUjVBhtsENfJRvoIGdJlaXv33XePvbyIl+v/93//F88oEwKWEwyEl8z/+7//u3nFK14RhBkQM/d//OMfBzHzt7I6KKZOe+65Z5DZH/3oRxFH3Msuu6w54IADgoDu+7l9m2v+cU3E/eAHP9isueaaIaskfN12SUJ7yCGHBHH25gXyPPPMM4P00wU6cccddzTf+973goypp/zoAtLpTQUveclLmu233z6Ibz/kR47K4Fl6qNzKqj2QSXLQlltvvfUgqUQKyVae0uVRRv5MIHjOHRj74he/GDJVfuSfnKXxghe8IOJ+//vfb/72t79FvT73uc8FSf/Upz4VadIHRJL8X/e618UERzrKoy0cyltpxZUiv4svuTgIrwN6dEFZl1pqqSDpSKo2MTEhb1s8tFeQ2RmzDv2d8/tzYqJgIkLXfUpvt912a7bZZptoG2ntt99+MUmiw1YG5E3XTZb22muvQbLtM0lyoVBYMFGe3kJhLsDgyMtlID/uuOPCI/qOd7wjBnjepM232DzICPKAhBiMjzrqqDiAhUggDSuttFIMwogODEV6v/CFLwQJMbj/4Ac/CMIxYvjBrM+f/exnMbg/7WlPi3IO580y0C+62KJRVnkgybx0SCRij6whILx9lt2RPd4+BEJ5EFAk9T/+4z/iWeSBR/TTn/50EBPkA4FDuhBJxAjheNnLXhZ14/m0fI0UmTggauRnb6v8ePCQQ4RXWaSJPPKeKh8SjawhkTvttFN4Ot3TPtIlY8QQofzMZz4Tb3wg8ze84Q0hd0T8mmuuaZ73vOdFnZBqxPG73/1ukDGkCSn/4/l/jHJrR+RenJRfyjbJL1l95CMfCXkqEzKHYCGzvPzIKcKJRDqAp84mTryWO+ywQ0yG1B1BlI88+iEv1+VHRnvvvXeU3aTLREp7kieSTv7qYRJiOKCjyoR8b7fddkEWf/7zn8f9rbbaKoK077n7nqi7PJTFZIYnmH6QGZmq1/777x/lV2btoTzItPoppzZGfukU3SfnF7/kxdEXTA7E1/7bbrtt9BXx9Slv6NDm2nbttdeOdoRbb7s1SL4JjwmZepgc+E6+9JDeI8ImON76QDb/8z//07zwhS8MvTnxxBNjLziSr34CnRmunxQKhQUDNW0tFMYZBl8DJI+Wd6imRxVRspTLe2RwtYwrLhL305/+NAZdA61BNz16yI8BdzggLYgAomHgR8SGCwgpsiFdz/hEUEcCMiSetJUFUfrtb3/bLL3U0s0b3/DG5kUvelEQBmRAfcVfZOFFot550EjeiKR68GQirAgIwildy82eRe4QcASYB5VX781vfnOcykcmebSRaBMCRH+99dYLouwZREn53DvvvPPCo0iOysELiEQjWQgeeBMCryQg7UioiYA3Peyxxx4hKwTNL389YZ0nRH21qbpkeyBoyBfChyybtHzsYx+LsvAidr28gu+IoDg8xiYCr3nNawbfL8tjbYJARjzfnn/a058W13j0yQjhRMB5T7VLbifp1xHlBnki4/TOJwKrDhtttFHojjbg/SaPT3ziE+Hx5AG3LcREQpvQFW1MdxBmoG9rrLlGTCi0CzLJw68+r33ta0PnQTtqo7323Cs8+sqpvckItLUyiEO+0ueJNRlAkhFfemSCJn1xwMSF/J/61KcGMQVE3CSTfqkL2Paw8847hxxMMMmR3tAtQMYRa/IxeaJr+qB90uRL75S5CG+hMEHQduhCoTCOaAfKXktEejfeeGPvkEMO6bXEq9eSwd62227bawfeiHPANw7oteSj1w6mve2337536qmn9lry0DvmmGN6LYmLa2effXZvxvQZvZbA9FpyHM/147777uvdcsstvZbM9FoiGd9HC+IKLWGJso4E91tC1Pvf//3fXks+Iuy66669888/v9cS4F5Lanotoe1tttlmvYsuuijKA+rZkodeS3B6X//61+OaeyeddFKvJZRx/T3veU+vJalx75JLLum9613viustIYk8Lr300rjXktBeS7p6LenotYSqd8UVV4RsP/3pT/dawtb7z//8z15LUCPuySef3GuJYa8lg72WNEU55NsSpri/yy67YIO97bbbrteS994NN9zQ++hHPxrtQ+bKc/nll/c+8IEP9NZZZ53eDjvsEG0TcmqbYOp9U3uvf/3ro4zS2XvvvUOWIM7UqVMf1Fa+T582Pb5LVx1bEtnbZJNNehdccEHoybRp0+J+S8IHy9eSx7jWkrjej3/8496yyy4b+qPMIF35+RxON5TX82eeeWavJZNRxx133DHkqu1aohn3r7/++t5nPvOZXktqey0ZHpRZ6sYHP/jB0FNlagliXPPZkvwol/K2k4peSzZ7LbHuHX300b2WUEcb0At6DC3ZD91uJx+9dmIS17TLD37wg147+eq15LV34oknDuahbb785S/3VllllV5LonstsQ55kdPWW28d+X5in09EXLj3nnt7p512Wq8l66GT++67b+jFCSecELqgfnRGutoJWtI7mFY7mYjn5dFOPHrtpGlk+RYKhQUO5ektFOYCeJ14jngdW6IZ3jT7U3nX4Lw/nheeRJ5O+xXtieSZdOiGV42Hkmcvfjp30tBbG0A+4vOwLjRloWaxRRcbNiy+2OIRl0dU4CUcDS3xiaVq2w540XjfeKR5RC1326rA02jpWXlbmxLP2avK68ojyasI/ubt5mHl3eOl4+kDXsj0upFRSw5j6Rp4wl0nI3tBycxeW29o4InkkVQfZXWdN5On9k1velPcIzsebeVXZuCdFSydf+1rXwtZ8CTyEFoKt1f57W9/e3PwwQc3W225VUuJ2ofaJpg2fVostSsvL6Tlf15az5JDencfhIE/ta3tAMrREvVmtVVXiy0L6b100Erayko+wDNJT1riNegNT4zkecx9rcqjrWytscfXNgVbHHjapeU+77OtAvIiM155UC71Uu7Mn9dVPdMbrV14Wm0HaYl8yJ5HlRdW29rLSwfAHm+eYW2S1/QN6ZA/j7e2zxUCMqYzLQEPL7M2pu/S147az/t6QTlvvuXmpp30xFYiZWwnFc1b3/rW5p3vfGfovXa2D1i99RWyl+5LX/rS+FELqwhWEGzRSO82GY8k50KhsGChSG+hMJfggI99igjD+9///lg6NaAjt5ZTwWEkh7MQNkTBwRxLx5ZYLQOPBnsP3/a2t8U2gPe89z3NXu/aa9jwjne+I+Ja8rWEf8wxx8TSdBeIUgZAlBAc+1CRDEvfPkH9EFJxEFtbMpBvsFcSobGULJgA2E/7rW99KwiJpWMH+3LvKyKM9Krz+973vkHihZTKB2xRsPyNBKWsLNVbipaOLQ15Ql/aDr4hkOSPuBx55JFBiJA3BA358YyldfkqPxJkr63lc0QRGWqlEc8jq8i8uoB2kw5ZJTHqJ0juIY8mDshd5uW5ZZZdJoiV8gGibRKh7e0LBu1DxuqH7Is/FpgsTb1/apBB2z/8mIUtHMqH3NmKoSyILjJKnogeApvkEhy61JYmIElUtbfJhbZB+E2Env2sZwdxlaZ6et42HgSXTqg/fQD5ANKJvNqO4NAbHerWT9v8/ve/Dxnal5sTAfus6Yp2JyugU3SIjmlzAaF3WE75bScxQcmJnsOc5K4MiLDtHGBSUMdcCoWJiyK9hcI4A8nhATMwI0hILMKWXk2HbHjXEDtkBBA1RIIXy35H5As5RnoQ4uGQB4AQBwO2vaXDBQSZx5a3ETmwh9Ue3SS4XSBHriMqPGbKgEjy6KoHAoiUIE0IGXKIOCEfnkGUYd0nrhskyt7Xb37zm0FakREEBjEhJ4Q6vYC8v7x94pCjQ10IE9Lj0Bvcd+994f20z9MbFeTtWR463l8TCweokCukBgEj289//vNBjJA/+2mVVx0AeeLtdOAL+eKZl6a6aJtJk2eRXkSbl5SXV1mlTU7qkoS/C3IUtKW8ydHkR/pI1/Rp04OIaUdyVm97dnm1k1zSCTrk4F16WkfSiYT2PvTQQ0PGZESG9mBrc5MDbcczy5uqHtrXXlw6p8za5PDDDw8i6549uWRCDsplFYMO84yvuNKKkScSK3iHsEN3yy4za1KD0GszRFVa4Zlt85Y2oq98JgK511abn/6r0+PTpGnHl+046OVGqskGoTaBUH7tpJ7alG69973vbb70pS/Ffl564J44yu+7fnDYYYdFW4J93yYxZEsu9jgXCoWJhyK9hcJcgAEeQUKIeO14EQ3UYMBF2JAbAZCf666d9fonxAYRcOpdXIQJkCTpZQBLtw7BeWMBjxYv3nAB0c3v0nXICMFOgptpJhAABAbpQkqQwVx6RkYQNX87XKU+vMjq7VATgrHBhhs0j1nuMc03D/nm4AEpHkMeS15D3jfeVwfjcombrFZ43CxPoPryuFrm9uMDSA4gbfJD0JBBZPWrX/1qyEC5lIk3mszVDRFGfqTjEJlyINRIapIscidzZAzps6TPG+r1XSYogDClB9v2BFtQQB7QLz9ATl2Xl/Iqm3rSBXm5h3jbziH/d7/73bEkD+6pK1KH8Fn+N8HwvCDfDEOB/n35y1+OSZE42tBhPt5UExHEW/lMDJQHuadrSK02NAEgBzC5QHS9UYO33ASDDBF4EzSkWdsjyvRm8+duHmU1WQByQ0gRZGWXjsmXSSF5I6Z0UTq33nJrc/xPjg/9oC+2SGjPGdNnhHcZKeUZlv4RRxwRbWpC4VmTDzLT5iZe6iW+bQ8mPSZR7pO1MtAjMuCxztUFsko9LxQKEwtFeguFuQDbF3jCDKCILe8o4oMQ2LcJPFg8VQZzHqe//u2vMZAjQcgecsgTjCwhgEORG6QN+UI87GNFDoYLCIRgcBdfXojCcEAGEAceSGXhibNUDsgKoohA5LtWefaQUHVHpCZPmhzE5cSTTowlcIRWXJ42XmbeNK+OQjCQVbLgBVxyqSVDTuJK33YEbzAA12+59ZYgXuTp0xL4k9d/csQjJ2QSmUHcvJ7Ndg7k58Mf/nAQ81wmX+4xy4WHl0xsIbDXVXxE3Ht+ESVkiKyky3OP8OZ2gWyXLvqJL/lqN4QOcUcSlQ3RR6ZPP+P02EernryNtp1EPWbMDDmRP1mSDeIrLXkORbD7IW95fec734n8kF8ypXc8rtJUP7LlYXbfBMI+ZltMdt9t92aTjTdpWWATsuD1pccIs4mWOm222WaDWxKQXh5kZeRpp19ZTveAx997cbW5ONKVnrYkD+X70pe/1HznsO806663brQJr/rCiyzcTFloSvQNckHC9RGrBIi8ciiP/blIu3de20pjCw9ya1Kk7bQ3OSL39Nd2FURdoOfkIb/cglEoFCYW6j29hcI4w0Bv6Rb54p20tSEJC48Ugot42GOIsIrPIya+wdjgbY+hAdxziF4cpGohjX4gQUidT/elN5YAQ6UHriO9vHA8ZUgS4so7yMMHyiUo4ytf+crYMoDAeJZX1fMIonuI3S0339LccecdcaDOftt8v6r0kS6v7EJeeGila3KgXkhN7ttVR4FXUh0Qtp1fvXOz7fO3DS8foictXkUeamTWtgDeQOWPPbQDh7zIHPGThrKSPQKtjXiildkzCBriicwrz/O2eV4QNnUbSn7da77LS7nkhUz5G1lD4HjfTVwsx2tzcZRF/ZEy5BJhpEMIm7JkOw+Vd0Ic5ZUWufFs8hiTtW0OvN1Iu/aSJ9l5Rl700ArCS1/20uba666N9jZp0o7eEUw+0sqDfCYR4iCVyLu4JkD0OOTcllN7yE9Z7LPdddddg4jvu+++IRv9QL9APn3ahsHjbQuJtNVDOsixOiC2ys6Dr5+QF0KuX4nHm8wb7XV09EHZHcBUJnGR65yAkBMCLU0/cqJs9LxQKEw81C+yFQpzAQgEJEHMwR+GIy0IFdKABCEh0N89u8/43k33oWAoM5DXpJ/1ybzUCzmy5K+sCE0XiJHnec66S8X3T72/uenmm4L8ISbQzQdSPq4jKEgL0t9S9UF5IqHIj3Qybj6PNPEcAzKVe6kT/fkB2Suza5bOu/JXnswX+cpyJxHrpgP9f3s+yteSbN5vhJ2XG0lEwmw7QPyUAfHyXX5WCnhclcXSPELnnvSzPMNBOnSJ7MjfBEJ5bZHoHhZLuZGniZq/HTJM5KQnCWtXD7r19JwA3bKZYPg7SPzNN8b7jk0W7vzXnc2RRx0ZRNQ+cd5fcdRVm4kTac6cJbduXrbc0D0ecfE8p1xkI4C9wsquzNpfGbKMAhJO7p6ztUYaPPomcNBt80KhMHFQpLdQeBgwVLfrJxHDoRtvOPQ/P5ZnoPtcfs/Bf3bKnNdHKkfem900YLRnuhgqn3mJ/vL3lwNB5cG0D9WWDNtU7JO2NP+BD3wgvI/vec97wrOJjA1Vjzmp23Dlcl3wdzfdbvzR8su4/ekg3ojp5Zdd3uz7+X1jT64fo7B/PScTMJa8Zqc8hUKhADWVLRTmExjEM8wvQCZGKtNwZR7umaHiD3UNhrqWGO2Z4e7PD+gvX3on7S/107necuG7g15eIWbbCA/o3K5LlgeSROa1/rxHuta93p+Ov3nif3naL+PVY7zQvMi8yQi90H1+JEgrQ6FQKIwFRXoLhcIgukSiyMS8QXrS7W/2hgyHBBFCe5t5eu05RozHSgbnZ6irA2u/P+f3sZfYfmvbPVyzvQMmQj0LhcL8idreUCgUCg8jmGATDPtqHSSzZ5Vn135lh63GYqIXpAmKA3z2NCfZt63B2xjspe5ucSgUCoXxRpHeQqFQeBiRpHckjGamyytfKBQKo6O2NxQKhcLDiCKshUKhMG9Qnt5CoVAoFAqFwoRHeXoLhUKhUCgUChMeRXoLhUKhUCgUChMeRXoLhUKhUCgUChMeRXoLhUKhUCgUChMeRXoLhUKhUCgUChMeRXoLhUKhUCgUChMeRXoLhUKhUCgUChMcTfP/GIqc6a0f+0wAAAAASUVORK5CYII=)"
      ],
      "metadata": {
        "id": "joigNr9IVn3W"
      }
    },
    {
      "cell_type": "code",
      "source": [
        "def cost_function(phiz, y_train):\n",
        "    return (y_train * np.log(phiz) - (1 - y_train) * np.log(1 - phiz)).mean()"
      ],
      "metadata": {
        "id": "GylJpPff9IAg"
      },
      "execution_count": 8,
      "outputs": []
    },
    {
      "cell_type": "markdown",
      "source": [
        "# Initialize Parameters"
      ],
      "metadata": {
        "id": "TbrpE8NNBFUv"
      }
    },
    {
      "cell_type": "markdown",
      "source": [
        "\n",
        "*  np.random.rand() generates random numbers from a uniform distribution.\n",
        "\n",
        "*   \n",
        "np.random.randn() generates random numbers from a standard normal distribution.\n",
        "\n",
        "*   np.random.randint() generates random integers within a specified range.\n",
        "\n",
        "\n",
        "\n",
        "\n",
        "\n",
        "\n",
        "\n",
        "\n",
        "\n",
        "\n"
      ],
      "metadata": {
        "id": "DofVT1rQXlzF"
      }
    },
    {
      "cell_type": "code",
      "source": [
        "w=np.random.rand(784)\n",
        "b=np.random.rand(1)"
      ],
      "metadata": {
        "id": "iohh1hyG-bVY"
      },
      "execution_count": 9,
      "outputs": []
    },
    {
      "cell_type": "code",
      "source": [
        "w"
      ],
      "metadata": {
        "colab": {
          "base_uri": "https://localhost:8080/"
        },
        "id": "X2_BBR0IYCu4",
        "outputId": "ac0f8b92-2610-46e3-9ffa-0d81836b5d70"
      },
      "execution_count": 10,
      "outputs": [
        {
          "output_type": "execute_result",
          "data": {
            "text/plain": [
              "array([0.84961246, 0.33237096, 0.53332657, 0.20988113, 0.44700446,\n",
              "       0.98507563, 0.13287272, 0.70118792, 0.43134656, 0.1382715 ,\n",
              "       0.84201866, 0.08427178, 0.3611444 , 0.84668703, 0.27935391,\n",
              "       0.04056609, 0.45274265, 0.95152566, 0.02002253, 0.6449522 ,\n",
              "       0.34736412, 0.24183715, 0.95830652, 0.32799786, 0.42566228,\n",
              "       0.08651458, 0.52253009, 0.19424886, 0.52423564, 0.15568524,\n",
              "       0.21731669, 0.58091689, 0.32546862, 0.9359548 , 0.80251216,\n",
              "       0.96639337, 0.89380274, 0.54518509, 0.33046752, 0.45743449,\n",
              "       0.68613697, 0.53281595, 0.65655881, 0.87886279, 0.3928504 ,\n",
              "       0.47403216, 0.56911967, 0.29174427, 0.5230192 , 0.94890132,\n",
              "       0.45495427, 0.91005895, 0.36280966, 0.64070274, 0.90849886,\n",
              "       0.8704444 , 0.2836473 , 0.02887922, 0.08092373, 0.45594064,\n",
              "       0.53674178, 0.45154419, 0.35500337, 0.30478176, 0.49044174,\n",
              "       0.76923563, 0.93991647, 0.60009567, 0.543345  , 0.46912489,\n",
              "       0.24174927, 0.83248486, 0.22331788, 0.00925649, 0.13060988,\n",
              "       0.91388707, 0.2468888 , 0.71050926, 0.30969751, 0.45834746,\n",
              "       0.96201985, 0.53894072, 0.52516726, 0.53599905, 0.98034775,\n",
              "       0.01124715, 0.78069374, 0.55802798, 0.40362722, 0.01348173,\n",
              "       0.7785809 , 0.45343859, 0.41109746, 0.14445885, 0.86969761,\n",
              "       0.39199133, 0.77713411, 0.43340977, 0.3571842 , 0.41726441,\n",
              "       0.285357  , 0.27655604, 0.44760306, 0.8903938 , 0.471263  ,\n",
              "       0.93048431, 0.66120313, 0.24978538, 0.51907349, 0.19779087,\n",
              "       0.33158415, 0.45347191, 0.87762321, 0.6149395 , 0.90968329,\n",
              "       0.84405664, 0.27394201, 0.2695447 , 0.18919596, 0.20749524,\n",
              "       0.67262545, 0.08794727, 0.49397045, 0.28815731, 0.13690416,\n",
              "       0.11193444, 0.33712804, 0.63955928, 0.44595424, 0.64423051,\n",
              "       0.13966248, 0.80738294, 0.79451628, 0.82749954, 0.22655158,\n",
              "       0.04822722, 0.06252054, 0.90591221, 0.89926241, 0.27902736,\n",
              "       0.49849883, 0.96836128, 0.17227079, 0.85238088, 0.55586486,\n",
              "       0.79312576, 0.21613243, 0.02683035, 0.55032047, 0.1613863 ,\n",
              "       0.41359039, 0.02406422, 0.6210992 , 0.74278944, 0.57968423,\n",
              "       0.98026199, 0.81370309, 0.98021314, 0.48123938, 0.28822349,\n",
              "       0.56574201, 0.06968637, 0.16895766, 0.30337094, 0.74920059,\n",
              "       0.27730211, 0.72622287, 0.21143468, 0.05607146, 0.91674557,\n",
              "       0.92164544, 0.97537348, 0.73674229, 0.28349775, 0.13429543,\n",
              "       0.98741641, 0.69808553, 0.46231322, 0.94997399, 0.37023478,\n",
              "       0.86567107, 0.67422308, 0.16864576, 0.22051894, 0.52061043,\n",
              "       0.33106207, 0.14932243, 0.59674673, 0.93831988, 0.06280193,\n",
              "       0.3905452 , 0.42911642, 0.04231237, 0.18883654, 0.87588861,\n",
              "       0.92815639, 0.91652276, 0.36522646, 0.30536121, 0.41141925,\n",
              "       0.48870428, 0.56618423, 0.08871796, 0.06165683, 0.41830056,\n",
              "       0.95804493, 0.12486615, 0.18590811, 0.37088645, 0.69367343,\n",
              "       0.6796607 , 0.23199655, 0.05937872, 0.43579798, 0.02715091,\n",
              "       0.65238074, 0.85994212, 0.93581658, 0.47123261, 0.77314906,\n",
              "       0.99296303, 0.63522191, 0.58393153, 0.77322368, 0.70243121,\n",
              "       0.84271768, 0.22725165, 0.60931106, 0.98544875, 0.16224825,\n",
              "       0.44309311, 0.82174611, 0.36806315, 0.28094393, 0.42293621,\n",
              "       0.26077512, 0.9344619 , 0.70684704, 0.59278114, 0.2426051 ,\n",
              "       0.14220152, 0.9619029 , 0.84539998, 0.72172195, 0.500712  ,\n",
              "       0.31607238, 0.50983364, 0.27510563, 0.489019  , 0.21968199,\n",
              "       0.45273121, 0.57088759, 0.87547485, 0.22698063, 0.41466922,\n",
              "       0.1854695 , 0.96760614, 0.04030417, 0.01792266, 0.54985271,\n",
              "       0.07325207, 0.20787953, 0.48633401, 0.15674553, 0.4843603 ,\n",
              "       0.96705583, 0.20409647, 0.14708507, 0.33998747, 0.85293229,\n",
              "       0.12863398, 0.33776425, 0.51822341, 0.13443273, 0.7056797 ,\n",
              "       0.75414723, 0.95371784, 0.27124116, 0.73328268, 0.8865036 ,\n",
              "       0.05093005, 0.42411854, 0.299789  , 0.67369088, 0.86557013,\n",
              "       0.87144719, 0.58738311, 0.36173446, 0.83714087, 0.33414024,\n",
              "       0.1824806 , 0.09959401, 0.67880467, 0.60629152, 0.02251808,\n",
              "       0.33823351, 0.56539249, 0.64810288, 0.5896472 , 0.72953233,\n",
              "       0.6527886 , 0.64228336, 0.28244542, 0.34441164, 0.48517763,\n",
              "       0.80845221, 0.54793518, 0.06976144, 0.81758793, 0.11038197,\n",
              "       0.82086126, 0.74279209, 0.90764626, 0.36323549, 0.11731716,\n",
              "       0.21716537, 0.18982601, 0.94936909, 0.99450163, 0.37752321,\n",
              "       0.03429651, 0.88447235, 0.19472119, 0.18407572, 0.48273089,\n",
              "       0.62407149, 0.03654335, 0.29478299, 0.04579185, 0.85880134,\n",
              "       0.61909079, 0.0557634 , 0.7538288 , 0.31450296, 0.76378077,\n",
              "       0.700358  , 0.14499145, 0.51122321, 0.61577701, 0.4854213 ,\n",
              "       0.34346209, 0.20158335, 0.57501758, 0.41066891, 0.94481616,\n",
              "       0.28509226, 0.78583718, 0.8597053 , 0.00759219, 0.09777877,\n",
              "       0.96276279, 0.03381795, 0.81636085, 0.83894483, 0.43140726,\n",
              "       0.74225093, 0.48956356, 0.77219454, 0.23830953, 0.43402624,\n",
              "       0.26327548, 0.44616892, 0.8328415 , 0.13696329, 0.54208859,\n",
              "       0.38317453, 0.511972  , 0.73858472, 0.14985266, 0.01811209,\n",
              "       0.03974986, 0.19331208, 0.96563548, 0.05378932, 0.55043443,\n",
              "       0.23974347, 0.50245569, 0.39493286, 0.1114803 , 0.02827057,\n",
              "       0.96148412, 0.37428072, 0.40197009, 0.40268763, 0.78666511,\n",
              "       0.64787852, 0.8608777 , 0.31873629, 0.6563013 , 0.63812211,\n",
              "       0.92270799, 0.15753716, 0.38201697, 0.97079448, 0.01158338,\n",
              "       0.0270373 , 0.87695872, 0.51036694, 0.76352353, 0.3512518 ,\n",
              "       0.39275956, 0.57602324, 0.9812093 , 0.00327654, 0.33442044,\n",
              "       0.20988095, 0.90718276, 0.61803028, 0.20938217, 0.69959163,\n",
              "       0.62193607, 0.51102867, 0.75922734, 0.01550352, 0.62093892,\n",
              "       0.94563661, 0.1838616 , 0.61391106, 0.282577  , 0.32346904,\n",
              "       0.98283568, 0.62820083, 0.91341138, 0.33639544, 0.46562653,\n",
              "       0.42252755, 0.98668502, 0.15485911, 0.3479121 , 0.48629936,\n",
              "       0.33172112, 0.19902685, 0.43016555, 0.52325602, 0.41608206,\n",
              "       0.29237968, 0.59482854, 0.02895069, 0.80056172, 0.87729561,\n",
              "       0.64382161, 0.31478716, 0.77325542, 0.97940063, 0.43991019,\n",
              "       0.74246012, 0.54779797, 0.67442172, 0.08978531, 0.73127537,\n",
              "       0.99132056, 0.46608113, 0.83937952, 0.6604279 , 0.74859799,\n",
              "       0.56635817, 0.63339769, 0.26683716, 0.26436765, 0.9632673 ,\n",
              "       0.53006425, 0.71366119, 0.79976853, 0.40689416, 0.24537534,\n",
              "       0.82704994, 0.08656351, 0.37346279, 0.18600205, 0.26555436,\n",
              "       0.69592986, 0.60266394, 0.23008894, 0.31829559, 0.53970873,\n",
              "       0.82333577, 0.33909824, 0.91191897, 0.26023163, 0.27978961,\n",
              "       0.55116613, 0.7667755 , 0.78723694, 0.65717627, 0.85174215,\n",
              "       0.24824036, 0.52544699, 0.09863035, 0.50531548, 0.94093334,\n",
              "       0.47083565, 0.04432929, 0.98860763, 0.54487127, 0.71073849,\n",
              "       0.30230458, 0.5937015 , 0.32642315, 0.38754397, 0.80834146,\n",
              "       0.90741009, 0.5039386 , 0.75377912, 0.86043978, 0.03149667,\n",
              "       0.57458453, 0.26915634, 0.05915789, 0.95356367, 0.95445202,\n",
              "       0.9067634 , 0.19958415, 0.45247078, 0.34689644, 0.89166357,\n",
              "       0.87512281, 0.21849242, 0.71366021, 0.01784631, 0.98551926,\n",
              "       0.29105567, 0.57467697, 0.19195685, 0.27921437, 0.87797806,\n",
              "       0.64444149, 0.77901469, 0.14117832, 0.72384626, 0.31894658,\n",
              "       0.23306942, 0.4836463 , 0.66724357, 0.29298986, 0.77282346,\n",
              "       0.02737096, 0.42959921, 0.96969969, 0.56140242, 0.09103655,\n",
              "       0.38689081, 0.49465824, 0.88994705, 0.33902549, 0.80243276,\n",
              "       0.32902596, 0.45792975, 0.41721206, 0.55535434, 0.72799885,\n",
              "       0.25150547, 0.16995513, 0.92068675, 0.70609011, 0.37515691,\n",
              "       0.13979013, 0.2522703 , 0.47956145, 0.1085506 , 0.10395534,\n",
              "       0.90845888, 0.45134676, 0.21875905, 0.53988259, 0.30857893,\n",
              "       0.81950021, 0.05682382, 0.28730719, 0.66268347, 0.87787501,\n",
              "       0.22396383, 0.19041025, 0.51731302, 0.69667383, 0.8385906 ,\n",
              "       0.71515216, 0.35415603, 0.40316619, 0.90410333, 0.10395384,\n",
              "       0.09634891, 0.24345397, 0.00299171, 0.71785591, 0.84710418,\n",
              "       0.70386766, 0.80312651, 0.64941032, 0.1307566 , 0.70677693,\n",
              "       0.75675937, 0.59164954, 0.56339567, 0.26656734, 0.55789368,\n",
              "       0.9142668 , 0.20776356, 0.03239637, 0.26065974, 0.14392919,\n",
              "       0.26181925, 0.10616188, 0.64801581, 0.58598864, 0.1343803 ,\n",
              "       0.93109936, 0.97071049, 0.02872348, 0.27245173, 0.66111667,\n",
              "       0.35386729, 0.05407924, 0.44424181, 0.5902131 , 0.79453027,\n",
              "       0.01609956, 0.52291823, 0.47447065, 0.34299561, 0.21717741,\n",
              "       0.52819716, 0.74754089, 0.2712749 , 0.12800175, 0.20805412,\n",
              "       0.35205808, 0.29725655, 0.4263841 , 0.10437013, 0.04171093,\n",
              "       0.62087642, 0.0442996 , 0.00258488, 0.92467579, 0.17998444,\n",
              "       0.18568233, 0.82070462, 0.10729047, 0.19083463, 0.66536102,\n",
              "       0.61421509, 0.20475689, 0.64865596, 0.26469287, 0.63203237,\n",
              "       0.63411317, 0.78992082, 0.83294395, 0.83240064, 0.0561269 ,\n",
              "       0.40486633, 0.86828853, 0.24785872, 0.80924068, 0.95512026,\n",
              "       0.20662207, 0.85470978, 0.50460186, 0.91787276, 0.12319724,\n",
              "       0.12642999, 0.97998122, 0.93281593, 0.30700258, 0.26470835,\n",
              "       0.28781475, 0.06937197, 0.66689775, 0.3966546 , 0.73100922,\n",
              "       0.08597171, 0.34317424, 0.53323792, 0.50370928, 0.14607567,\n",
              "       0.3096915 , 0.09475647, 0.92701943, 0.62541429, 0.30649852,\n",
              "       0.25155441, 0.81524705, 0.78453292, 0.79133822, 0.26539503,\n",
              "       0.56241767, 0.59024692, 0.00742068, 0.49917508, 0.00438338,\n",
              "       0.12420049, 0.51535393, 0.35102645, 0.20106182, 0.46497341,\n",
              "       0.63214077, 0.6797792 , 0.65362702, 0.22387927, 0.27509466,\n",
              "       0.31361729, 0.0847616 , 0.69185579, 0.75925341, 0.15386503,\n",
              "       0.61486026, 0.99600795, 0.89983365, 0.82677365, 0.48052764,\n",
              "       0.25510007, 0.37197369, 0.06876032, 0.24109404, 0.40892386,\n",
              "       0.50167777, 0.09822445, 0.74436855, 0.21138456, 0.40532849,\n",
              "       0.6749469 , 0.64495792, 0.97735245, 0.26841282, 0.9864896 ,\n",
              "       0.06468317, 0.64719146, 0.38379373, 0.3698691 , 0.33265952,\n",
              "       0.04533949, 0.01623887, 0.36420097, 0.25055729, 0.43551299,\n",
              "       0.29771023, 0.07417964, 0.97833579, 0.82896516, 0.22674097,\n",
              "       0.16663525, 0.05865804, 0.9782611 , 0.8052464 , 0.33199249,\n",
              "       0.55064929, 0.96658393, 0.51482995, 0.25371722, 0.96594516,\n",
              "       0.81416945, 0.76262524, 0.12797905, 0.91022482, 0.29142638,\n",
              "       0.75584375, 0.77009627, 0.21951544, 0.58713499, 0.22096678,\n",
              "       0.82917309, 0.00198243, 0.09856854, 0.42875037, 0.58000254,\n",
              "       0.03057233, 0.62395744, 0.49147808, 0.24913293, 0.09751036,\n",
              "       0.68635915, 0.84536464, 0.57146943, 0.74111709, 0.62782384,\n",
              "       0.64254221, 0.87323354, 0.75196945, 0.09198669, 0.31313528,\n",
              "       0.97470186, 0.44236232, 0.54525249, 0.13567906])"
            ]
          },
          "metadata": {},
          "execution_count": 10
        }
      ]
    },
    {
      "cell_type": "code",
      "source": [
        "w.shape"
      ],
      "metadata": {
        "colab": {
          "base_uri": "https://localhost:8080/"
        },
        "id": "7vC2MfNk-cy2",
        "outputId": "55cc1526-d261-43b5-9d9d-05120ec23e71"
      },
      "execution_count": 11,
      "outputs": [
        {
          "output_type": "execute_result",
          "data": {
            "text/plain": [
              "(784,)"
            ]
          },
          "metadata": {},
          "execution_count": 11
        }
      ]
    },
    {
      "cell_type": "code",
      "source": [
        "x_train.shape"
      ],
      "metadata": {
        "colab": {
          "base_uri": "https://localhost:8080/"
        },
        "id": "D_sGYE8P-iU9",
        "outputId": "892fda72-c17d-4852-a3d7-17ab62b3e038"
      },
      "execution_count": 12,
      "outputs": [
        {
          "output_type": "execute_result",
          "data": {
            "text/plain": [
              "(12665, 784)"
            ]
          },
          "metadata": {},
          "execution_count": 12
        }
      ]
    },
    {
      "cell_type": "code",
      "source": [
        "epochs=1000\n",
        "tolerance = 10e-8\n",
        "Cost=np.zeros(epochs)\n",
        "eta=0.1"
      ],
      "metadata": {
        "id": "mQgpp7Np9IC7"
      },
      "execution_count": 13,
      "outputs": []
    },
    {
      "cell_type": "markdown",
      "source": [
        "# Gradient Descent Function"
      ],
      "metadata": {
        "id": "hA-E1HNiBJP9"
      }
    },
    {
      "cell_type": "code",
      "source": [
        "def Gradient_Descent(X_train,Y_train,w,b,epochs,eta):\n",
        "    for i in range (epochs):\n",
        "          z=np.dot(x_train,w.T)+b\n",
        "          phiZ = sigmoid(z)\n",
        "          Cost[i] =cost_function(phiZ, y_train)\n",
        "          w = w - (eta * np.dot((phiZ - y_train).T , x_train)) /len(x_train)\n",
        "          b = b - eta * np.mean(phiZ - y_train)\n",
        "          if (Cost[i]<tolerance):\n",
        "            break;\n",
        "    return w,b"
      ],
      "metadata": {
        "id": "qRXbmTa29IFw"
      },
      "execution_count": 14,
      "outputs": []
    },
    {
      "cell_type": "code",
      "source": [
        "w,b=Gradient_Descent(x_train,y_train,w,b,epochs,eta)"
      ],
      "metadata": {
        "id": "94nsHkqp_By_"
      },
      "execution_count": 15,
      "outputs": []
    },
    {
      "cell_type": "markdown",
      "source": [
        "# Test Data"
      ],
      "metadata": {
        "id": "pi_l-NOPBM7W"
      }
    },
    {
      "cell_type": "code",
      "source": [
        "# Test with same data and look at the accuracy\n",
        "z=np.dot(x_test,w)+b\n",
        "y_pred =sigmoid(z)\n",
        "for i in range(len(y_pred)):\n",
        "  if (y_pred[i]>0.5):   #Threshhold\n",
        "     y_pred[i]=1\n",
        "  else:\n",
        "     y_pred[i]=0\n",
        "\n",
        "\n",
        "accuracy=np.mean(np.equal(y_pred, y_test))*100"
      ],
      "metadata": {
        "id": "SCbneAFh9IQA"
      },
      "execution_count": 16,
      "outputs": []
    },
    {
      "cell_type": "code",
      "source": [
        "accuracy"
      ],
      "metadata": {
        "colab": {
          "base_uri": "https://localhost:8080/"
        },
        "id": "AH-QMpN89IS1",
        "outputId": "54e753be-136f-4750-e7d9-ef053eb1a218"
      },
      "execution_count": 17,
      "outputs": [
        {
          "output_type": "execute_result",
          "data": {
            "text/plain": [
              "99.76359338061465"
            ]
          },
          "metadata": {},
          "execution_count": 17
        }
      ]
    },
    {
      "cell_type": "markdown",
      "source": [
        "# Confusion_Matrix"
      ],
      "metadata": {
        "id": "jWeqEzLvm_vZ"
      }
    },
    {
      "cell_type": "code",
      "source": [
        "con_matrix=confusion_matrix(y_test,y_pred)"
      ],
      "metadata": {
        "id": "L8vCbwyKW_Bs"
      },
      "execution_count": 18,
      "outputs": []
    },
    {
      "cell_type": "code",
      "source": [
        "sns.heatmap(con_matrix,annot=True,fmt=\"d\")\n",
        "plt.ylabel('True')\n",
        "plt.xlabel('Predicted')"
      ],
      "metadata": {
        "colab": {
          "base_uri": "https://localhost:8080/",
          "height": 466
        },
        "id": "skuBFTu6XCWk",
        "outputId": "bfdeaaa7-fe77-4fd4-ea35-e91fe98dc5ca"
      },
      "execution_count": 19,
      "outputs": [
        {
          "output_type": "execute_result",
          "data": {
            "text/plain": [
              "Text(0.5, 23.52222222222222, 'Predicted')"
            ]
          },
          "metadata": {},
          "execution_count": 19
        },
        {
          "output_type": "display_data",
          "data": {
            "text/plain": [
              "<Figure size 640x480 with 2 Axes>"
            ],
            "image/png": "[encoded data removed]"
          },
          "metadata": {}
        }
      ]
    },
    {
      "cell_type": "markdown",
      "source": [
        "#Classification_Report"
      ],
      "metadata": {
        "id": "fK0BlEJHnFDp"
      }
    },
    {
      "cell_type": "code",
      "source": [
        "CR=classification_report(y_test,y_pred)\n",
        "print(CR)"
      ],
      "metadata": {
        "colab": {
          "base_uri": "https://localhost:8080/"
        },
        "id": "8XUhIDsKXFC1",
        "outputId": "a811fceb-459c-40a4-aaed-b7e99b3468e6"
      },
      "execution_count": 20,
      "outputs": [
        {
          "output_type": "stream",
          "name": "stdout",
          "text": [
            "              precision    recall  f1-score   support\n",
            "\n",
            "           0       1.00      0.99      1.00       980\n",
            "           1       1.00      1.00      1.00      1135\n",
            "\n",
            "    accuracy                           1.00      2115\n",
            "   macro avg       1.00      1.00      1.00      2115\n",
            "weighted avg       1.00      1.00      1.00      2115\n",
            "\n"
          ]
        }
      ]
    }
  ]
}